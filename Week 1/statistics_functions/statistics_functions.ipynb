{
 "cells": [
  {
   "cell_type": "markdown",
   "metadata": {},
   "source": [
    "## Statistics Functions\n",
    "\n",
    "1. Create a single plot of the pdf of a normal distribution with mean=0\n",
    "   and standard deviation ranging from 1 to 3.  Plot this on the range\n",
    "   from -10 to 10.\n",
    "\n",
    "2. Create a scaled normal distribution object with mean=20.0,\n",
    "   and standard deviation=3.\n",
    "\n",
    "3. Plot this distribution's pdf and cdf side by side in two separate plots.\n",
    "\n",
    "4. Get 5000 random variable samples from the distribution, and use\n",
    "   the stats.norm.fit method to estimate its parameters.\n",
    "   Plot the histogram of the random variables as well as the\n",
    "   pdf for the estimated distribution."
   ]
  },
  {
   "cell_type": "code",
   "execution_count": 4,
   "metadata": {
    "collapsed": false
   },
   "outputs": [
    {
     "data": {
      "text/plain": [
       "[<matplotlib.lines.Line2D at 0x110fdf110>]"
      ]
     },
     "execution_count": 4,
     "metadata": {},
     "output_type": "execute_result"
    },
    {
     "data": {
      "image/png": "[encoded data removed]",
      "text/plain": [
       "<matplotlib.figure.Figure at 0x1040d2c50>"
      ]
     },
     "metadata": {},
     "output_type": "display_data"
    }
   ],
   "source": [
    "from numpy import linspace, arange\n",
    "from scipy.stats import norm, histogram\n",
    "\n",
    "from matplotlib.pylab import plot, clf, show, figure, legend, \\\n",
    "                             title, subplot, bar, hist\n",
    "\n",
    "x = linspace(-10,10, 1001)\n",
    "\n",
    "# Your code here.\n",
    "# 1 Create a single plot of the pdf of a normal distribution with mean=0 \n",
    "# and standard deviation ranging from 1 to 3. Plot this on the range from -10 to 10.\n",
    "%matplotlib inline\n",
    "\n",
    "std = 2.\n",
    "pdf = norm.pdf(x)\n",
    "\n",
    "plot(pdf)"
   ]
  },
  {
   "cell_type": "code",
   "execution_count": null,
   "metadata": {
    "collapsed": true
   },
   "outputs": [],
   "source": []
  }
 ],
 "metadata": {
  "kernelspec": {
   "display_name": "Python 2",
   "language": "python",
   "name": "python2"
  },
  "language_info": {
   "codemirror_mode": {
    "name": "ipython",
    "version": 2
   },
   "file_extension": ".py",
   "mimetype": "text/x-python",
   "name": "python",
   "nbconvert_exporter": "python",
   "pygments_lexer": "ipython2",
   "version": "2.7.11"
  }
 },
 "nbformat": 4,
 "nbformat_minor": 0
}

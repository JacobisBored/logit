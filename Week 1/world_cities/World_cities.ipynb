{
 "metadata": {
  "name": "",
  "signature": "sha256:a30c9c773de20f38dfaa09a01fe1bf679ce20044648a6b8c198b86d2d0d02bbe"
 },
 "nbformat": 3,
 "nbformat_minor": 0,
 "worksheets": [
  {
   "cells": [
    {
     "cell_type": "heading",
     "level": 1,
     "metadata": {},
     "source": [
      "World cities exercise"
     ]
    },
    {
     "cell_type": "markdown",
     "metadata": {},
     "source": [
      "The goal of this exercise is to practice a common workflow for analyzing large data sets by combining Pandas and SQLAlchemy. \n",
      "\n",
      "This exercise uses an edited version of the world cities dataset from maxmind:\n",
      "\n",
      "    https://www.maxmind.com/en/free-world-cities-database\n",
      "\n",
      "For simplicity, the original data has been cleaned by removing all rows\n",
      "with missing values.\n"
     ]
    },
    {
     "cell_type": "code",
     "collapsed": false,
     "input": [
      "# Useful imports.\n",
      "import pandas as pd\n",
      "from sqlalchemy import create_engine, func, select, Column, Integer, MetaData, String, Table"
     ],
     "language": "python",
     "metadata": {},
     "outputs": []
    },
    {
     "cell_type": "code",
     "collapsed": false,
     "input": [
      "# Remove any existing database created in previous runs of this notebook.\n",
      "import os\n",
      "\n",
      "if os.path.isfile('world_cities.db'):\n",
      "    os.remove('world_cities.db')"
     ],
     "language": "python",
     "metadata": {},
     "outputs": []
    },
    {
     "cell_type": "markdown",
     "metadata": {},
     "source": [
      "**Question 1**\n",
      "\n",
      "Using SQL Alchemy, create a new table which contains population, country and city.\n",
      "Use \"sqlite:///world_cities.db\" as the URI, to create an sqlite database in a local file.\n",
      "\n",
      "The table should be called \"cities\" and have 3 columns: \"country\" of type `String`, \"city\" of type `String`, and \"population\", of type `Integer`."
     ]
    },
    {
     "cell_type": "code",
     "collapsed": false,
     "input": [
      "# Your code goes here."
     ],
     "language": "python",
     "metadata": {},
     "outputs": []
    },
    {
     "cell_type": "markdown",
     "metadata": {},
     "source": [
      "**Question 2**\n",
      "\n",
      "Import the data from the file `world_cities.csv` into the newly created table.\n",
      "\n",
      "To make things interesting, let's pretend that the CSV is so large that it does not fit into memory:\n",
      "\n",
      "1. Use Pandas' `read_csv` function to read 10000 lines at the time from the CSV file (using the `chunksize` argument). Column 0 in the file corresponds to the index.\n",
      "2. Iterate over all file chunks and\n",
      "3. Store each resulting data frame to the table using the `to_sql` method. (Hint: Use `if_exists='append'` to append to the DB table, and `index=False` to prevent Pandas from trying to store the index, for which we did not create a column.)"
     ]
    },
    {
     "cell_type": "code",
     "collapsed": false,
     "input": [
      "# Your code goes here."
     ],
     "language": "python",
     "metadata": {},
     "outputs": []
    },
    {
     "cell_type": "markdown",
     "metadata": {},
     "source": [
      "**Question 3**\n",
      "\n",
      "Using SQLAlchemy only, count how many rows are stored in the cities table. (There should be 47979 of them.)"
     ]
    },
    {
     "cell_type": "code",
     "collapsed": false,
     "input": [
      "# Your code goes here."
     ],
     "language": "python",
     "metadata": {},
     "outputs": []
    },
    {
     "cell_type": "markdown",
     "metadata": {},
     "source": [
      "**Question 4**\n",
      "\n",
      "What are the cities with a population above 5 millions people?\n",
      "\n",
      "Using SQLAlchemy, create an appropriate SQL query. Execute the query and create a DataFrame using Pandas' `read_sql` function.\n",
      "\n",
      "Bonus: Change your query to get a dataframe sorted by the population, ideally in descending order."
     ]
    },
    {
     "cell_type": "code",
     "collapsed": false,
     "input": [
      "# Your code goes here."
     ],
     "language": "python",
     "metadata": {},
     "outputs": []
    },
    {
     "cell_type": "markdown",
     "metadata": {},
     "source": [
      "**Question 5**\n",
      "\n",
      "Compute the number of cities per country: create a \"group by\" query using SQLAlchemy, and import the result in Pandas.\n",
      "\n",
      "Bonus: time the execution of that approach and compare with loading all data into a pandas `DataFrame` and doing the same operation there."
     ]
    },
    {
     "cell_type": "code",
     "collapsed": false,
     "input": [
      "# Your code goes here."
     ],
     "language": "python",
     "metadata": {},
     "outputs": []
    }
   ],
   "metadata": {}
  }
 ]
}
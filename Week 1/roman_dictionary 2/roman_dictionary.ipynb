{
 "cells": [
  {
   "cell_type": "markdown",
   "metadata": {},
   "source": [
    "## Roman Dictionary\n",
    "\n",
    "Mark Antony keeps a list of the people he knows in several dictionaries\n",
    "based on their relationship to him::\n",
    "\n",
    "    friends = {'julius': '100 via apian', 'cleopatra': '000 pyramid parkway'}\n",
    "    romans = dict(brutus='234 via tratorium', cassius='111 aqueduct lane')\n",
    "    countrymen = dict([('plebius','786 via bunius'),\n",
    "                       ('plebia', '786 via bunius')])\n",
    "\n",
    "\n",
    "1. Print out the names for all of Antony's friends.\n",
    "2. Now all of their addresses.\n",
    "3. Now print them as \"pairs\".\n",
    "4. Hmmm.  Something unfortunate befell Julius.  Remove him from the\n",
    "   friends list.\n",
    "5. Antony needs to mail everyone for his second-triumvirate party.  Make\n",
    "   a single dictionary containing everyone.\n",
    "6. Antony's stopping over in Egypt and wants to swing by Cleopatra's\n",
    "   place while he is there. Get her address.\n",
    "7. The barbarian hordes have invaded and destroyed all of Rome.\n",
    "   Clear out everyone from the dictionary."
   ]
  },
  {
   "cell_type": "code",
   "execution_count": 9,
   "metadata": {
    "collapsed": false
   },
   "outputs": [
    {
     "name": "stdout",
     "output_type": "stream",
     "text": [
      "['julius', 'cleopatra']\n",
      "['100 via apian', '000 pyramid parkway']\n",
      "julius 100 via apian\n",
      "cleopatra 000 pyramid parkway\n"
     ]
    }
   ],
   "source": [
    "friends = {'julius': '100 via apian', 'cleopatra': '000 pyramid parkway'}\n",
    "romans = dict(brutus='234 via tratorium', cassius='111 aqueduct lane')\n",
    "countrymen = dict([('plebius','786 via bunius'), ('plebia', '786 via bunius')])\n",
    "\n",
    "#Print out the names for all of Antony's friends\n",
    "print friends.keys()\n",
    "#Now all of their addresses.\n",
    "print friends.values()\n",
    "#Now print them as \"pairs\"\n",
    "for key in friends:\n",
    "    print key, friends[key]\n",
    "#Hmmm. Something unfortunate befell Julius. Remove him from the friends list.\n",
    "del friends['julius']\n",
    "#Antony needs to mail everyone for his second-triumvirate party. \n",
    "#Make a single dictionary containing everyone.\n",
    "everyone = {}\n",
    "everyone.update(friends)\n",
    "everyone.update(romans)\n",
    "everyone.update(countrymen)\n",
    "#Antony's stopping over in Egypt and wants to swing by Cleopatra's place while he is there. \n",
    "#Get her address.\n",
    "everyone['cleopatra']\n",
    "#The barbarian hordes have invaded and destroyed all of Rome.\n",
    "#Clear out everyone from the dictionary.\n",
    "everyone.clear()"
   ]
  },
  {
   "cell_type": "code",
   "execution_count": 7,
   "metadata": {
    "collapsed": false
   },
   "outputs": [
    {
     "data": {
      "text/plain": [
       "{'cleopatra': '000 pyramid parkway'}"
      ]
     },
     "execution_count": 7,
     "metadata": {},
     "output_type": "execute_result"
    }
   ],
   "source": [
    "friends"
   ]
  },
  {
   "cell_type": "code",
   "execution_count": 10,
   "metadata": {
    "collapsed": false
   },
   "outputs": [
    {
     "data": {
      "text/plain": [
       "{'brutus': '234 via tratorium',\n",
       " 'cassius': '111 aqueduct lane',\n",
       " 'cleopatra': '000 pyramid parkway',\n",
       " 'plebia': '786 via bunius',\n",
       " 'plebius': '786 via bunius'}"
      ]
     },
     "execution_count": 10,
     "metadata": {},
     "output_type": "execute_result"
    }
   ],
   "source": [
    "everyone"
   ]
  },
  {
   "cell_type": "code",
   "execution_count": 11,
   "metadata": {
    "collapsed": false
   },
   "outputs": [
    {
     "name": "stdout",
     "output_type": "stream",
     "text": [
      "[('cleopatra', '000 pyramid parkway')]\n"
     ]
    }
   ],
   "source": [
    "#pairs\n",
    "print friends.items()"
   ]
  },
  {
   "cell_type": "code",
   "execution_count": null,
   "metadata": {
    "collapsed": true
   },
   "outputs": [],
   "source": []
  }
 ],
 "metadata": {
  "kernelspec": {
   "display_name": "Python 2",
   "language": "python",
   "name": "python2"
  },
  "language_info": {
   "codemirror_mode": {
    "name": "ipython",
    "version": 2
   },
   "file_extension": ".py",
   "mimetype": "text/x-python",
   "name": "python",
   "nbconvert_exporter": "python",
   "pygments_lexer": "ipython2",
   "version": "2.7.11"
  }
 },
 "nbformat": 4,
 "nbformat_minor": 0
}

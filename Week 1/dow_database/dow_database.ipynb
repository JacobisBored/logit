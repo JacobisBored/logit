{
 "cells": [
  {
   "cell_type": "markdown",
   "metadata": {},
   "source": [
    "# Dow Database\n",
    "\n",
    "The database table in the file 'dow2008.csv' has records holding the\n",
    "daily performance of the Dow Jones Industrial Average from the\n",
    "beginning of 2008.  The table has the following columns (separated by\n",
    "a comma).\n",
    "\n",
    "    DATE        OPEN      HIGH      LOW       CLOSE     VOLUME      ADJ_CLOSE\n",
    "    2008-01-02  13261.82  13338.23  12969.42  13043.96  3452650000  13043.96\n",
    "    2008-01-03  13044.12  13197.43  12968.44  13056.72  3429500000  13056.72\n",
    "    2008-01-04  13046.56  13049.65  12740.51  12800.18  4166000000  12800.18\n",
    "    2008-01-07  12801.15  12984.95  12640.44  12827.49  4221260000  12827.49\n",
    "    2008-01-08  12820.9   12998.11  12511.03  12589.07  4705390000  12589.07\n",
    "    2008-01-09  12590.21  12814.97  12431.53  12735.31  5351030000  12735.31\n",
    "\n",
    "1. Create a database table that has the same structure (use real\n",
    "   for all the columns except the date column).\n",
    "\n",
    "2. Insert all the records from dow.csv into the database.\n",
    "\n",
    "3. Select (and print out) the records from the database that have a volume\n",
    "   greater than 5.5 billion.   How many are there?\n",
    "\n",
    "Bonus\n",
    "~~~~~\n",
    "1. Select the records which have a spread between high and low that is greater\n",
    "   than 4% and sort them in order of that spread.\n",
    "\n",
    "2. Select the records which have an absolute difference between open and close\n",
    "   that is greater than 1% (of the open) and sort them in order of that spread."
   ]
  },
  {
   "cell_type": "code",
   "execution_count": null,
   "metadata": {
    "collapsed": true
   },
   "outputs": [],
   "source": [
    "\n",
    "# Your code here\n"
   ]
  }
 ],
 "metadata": {
  "kernelspec": {
   "display_name": "Python 2",
   "language": "python",
   "name": "python2"
  },
  "language_info": {
   "codemirror_mode": {
    "name": "ipython",
    "version": 2
   },
   "file_extension": ".py",
   "mimetype": "text/x-python",
   "name": "python",
   "nbconvert_exporter": "python",
   "pygments_lexer": "ipython2",
   "version": "2.7.11"
  }
 },
 "nbformat": 4,
 "nbformat_minor": 0
}

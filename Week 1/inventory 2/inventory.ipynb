{
 "cells": [
  {
   "cell_type": "markdown",
   "metadata": {},
   "source": [
    "## Inventory\n",
    "\n",
    "Calculate and report the current inventory in a warehouse.\n",
    "\n",
    "Assume the warehouse is initially empty.\n",
    "\n",
    "The string, warehouse_log, is a stream of deliveries to \n",
    "and shipments from a warehouse.  Each line represents\n",
    "a single transaction for a part with the number of\n",
    "parts delivered or shipped.  It has the form::\n",
    "\n",
    "    part_id count\n",
    "\n",
    "If \"count\" is positive, then it is a delivery to the\n",
    "warehouse. If it is negative, it is a shipment from\n",
    "the warehouse.\n",
    "\n",
    "Use the functions provided in your solution, where process_log\n",
    "parses the warehouse log string, and produces a list of\n",
    "transactions, and process_transactions generates an inventory\n",
    "dict from a list of transactions.  The function generate_inventory\n",
    "calls process_log, then process_transactions."
   ]
  },
  {
   "cell_type": "code",
   "execution_count": 1,
   "metadata": {
    "collapsed": false
   },
   "outputs": [
    {
     "name": "stdout",
     "output_type": "stream",
     "text": [
      "          hoverboard:     1\n",
      "              phaser:    40\n",
      "          lightcycle:    27\n",
      "          lightsaber:     4\n"
     ]
    }
   ],
   "source": [
    "def process_log(log):\n",
    "    \"\"\" Process a warehouse log string containing part names and counts.\n",
    "    Return an iterator for a list of transactions.\n",
    "    \"\"\"\n",
    "    # Your code here\n",
    "    return (line.strip().rsplit(None,1) for line in log.strip().split('\\n'))\n",
    "    #Alt Solution:\n",
    "    #import itertools\n",
    "    #items = log.split()\n",
    "    #return itertools.izip(items[::2],items[1::2])\n",
    "\n",
    "def process_transactions(transactions, inventory=None):\n",
    "    \"\"\"Given a list of transactions and optionally an initial inventory,\n",
    "    compute and return the final inventory for each part.\n",
    "    \"\"\"\n",
    "    # Your code here\n",
    "    if inventory is None: inventory ={}\n",
    "    for part, count in transactions:\n",
    "        inventory[part] = inventory.get(part, 0) + int(count)\n",
    "    return inventory\n",
    "\n",
    "\n",
    "def generate_inventory(log, inventory = None):\n",
    "    \"\"\" Process a warehouse log string containing part names and counts.\n",
    "    Returns a dict with the inventory of each part.\n",
    "    \"\"\"\n",
    "    # Your code here\n",
    "    return process_transactions(process_log(log), inventory)\n",
    "\n",
    "\n",
    "if __name__ == '__main__':\n",
    "\n",
    "    warehouse_log = \"\"\" lightcycle       10\n",
    "                        hoverboard        5\n",
    "                        lightsaber       12\n",
    "                        lightcycle       -3\n",
    "                        lightcycle       20\n",
    "                        phaser           40\n",
    "                        hoverboard       -4\n",
    "                        lightsaber       -8\n",
    "                    \"\"\"\n",
    "\n",
    "    # Your code here\n",
    "    for part, count in generate_inventory(warehouse_log).iteritems():\n",
    "        print '{0:>20s}: {1:>5d}'.format(part, count)\n"
   ]
  },
  {
   "cell_type": "code",
   "execution_count": null,
   "metadata": {
    "collapsed": true
   },
   "outputs": [],
   "source": []
  }
 ],
 "metadata": {
  "kernelspec": {
   "display_name": "Python 2",
   "language": "python",
   "name": "python2"
  },
  "language_info": {
   "codemirror_mode": {
    "name": "ipython",
    "version": 2
   },
   "file_extension": ".py",
   "mimetype": "text/x-python",
   "name": "python",
   "nbconvert_exporter": "python",
   "pygments_lexer": "ipython2",
   "version": "2.7.11"
  }
 },
 "nbformat": 4,
 "nbformat_minor": 0
}

{
 "metadata": {
  "name": "",
  "signature": "sha256:3cbafc55650595a50b50c8c0eb68b7232c5ca12a77888f385e0ba31a273d6a7a"
 },
 "nbformat": 3,
 "nbformat_minor": 0,
 "worksheets": [
  {
   "cells": [
    {
     "cell_type": "heading",
     "level": 1,
     "metadata": {},
     "source": [
      "Titanic visual exploration exercise"
     ]
    },
    {
     "cell_type": "markdown",
     "metadata": {},
     "source": [
      "There exists an exhaustive record of who was onboard of the Titanic, and whether they survived or not to the sinking of the ship [1].\n",
      "\n",
      "The file 'data/titanic.csv' contains a table with 9 columns:\n",
      "* survived: 1 if passenger survived, 0 otherwise\n",
      "* name: Name of the passenger\n",
      "* sex: \"male\" or \"female\"\n",
      "* age: Age of the passenger\n",
      "* fare: Fare paid to travel on the Titanic\n",
      "* class: \"First\", \"Second\", or \"Third\" class\n",
      "* who: \"child\", \"man\", or \"woman\"\n",
      "* adult_male: True if the passenger is an adult male (i.e., who == \"man\")\n",
      "* alive: \"yes\" if the passenger survived the sinking, \"no\" otherwise\n",
      "\n",
      "Use pandas, seaborn, and matplotlib to find out more about the passengers and their destiny:\n",
      "\n",
      "1) Load the file 'data/titanic.csv' in a DataFrame\n",
      "\n",
      "2) Show the number of children, men, and women on board as a bar plot\n",
      "\n",
      "3) Show the number of adult males vs non-adult males, split by the class they were travelling in.\n",
      "   \n",
      "* Hint: Use the `order` keyword argument to order the classes as First, Second, Third.\n",
      "\n",
      "4) Create a grid of plots showing the distribution of the age of the passengers, grouped by class (rows) and sex (columns)\n",
      "\n",
      "5) Create a violin plot of fare price, grouped by class\n",
      "\n",
      "6) Show the fraction of people who survived, for each of the classes.\n",
      "\n",
      "*   Hint 1: The fraction of survivors per class is equal to the mean of the `survived` indicator variable, per class. (This is a common trick.) \n",
      "\n",
      "*   Hint 2: Create a `factorplot` of `'survived`' vs `'class'`, setting `kind='bar'` (display the fraction of survivor as a bar plot), and `ci=None` (remove the error bars, which are meaningless).\n",
      "\n",
      "7) Create a row of plots showing the fraction of survivors in each class. Each plot should contain the data for children, men, or women\n",
      "\n",
      "[1] http://biostat.mc.vanderbilt.edu/wiki/pub/Main/DataSets/titanic.html"
     ]
    },
    {
     "cell_type": "code",
     "collapsed": false,
     "input": [
      "%matplotlib inline\n",
      "\n",
      "import numpy as np\n",
      "import pandas as pd\n",
      "import seaborn as sns\n",
      "import matplotlib.pyplot as plt\n",
      "\n",
      "sns.set_style('whitegrid')"
     ],
     "language": "python",
     "metadata": {},
     "outputs": [],
     "prompt_number": 1
    },
    {
     "cell_type": "code",
     "collapsed": false,
     "input": [
      "# Your code goes here!"
     ],
     "language": "python",
     "metadata": {},
     "outputs": []
    }
   ],
   "metadata": {}
  }
 ]
}
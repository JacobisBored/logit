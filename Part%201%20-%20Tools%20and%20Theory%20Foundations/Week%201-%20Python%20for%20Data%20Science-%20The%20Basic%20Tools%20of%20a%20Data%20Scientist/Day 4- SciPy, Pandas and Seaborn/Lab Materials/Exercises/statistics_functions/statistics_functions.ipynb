{
 "cells": [
  {
   "cell_type": "markdown",
   "metadata": {},
   "source": [
    "## Statistics Functions\n",
    "\n",
    "1. Create a single plot of the pdf of a normal distribution with mean=0\n",
    "   and standard deviation ranging from 1 to 3.  Plot this on the range\n",
    "   from -10 to 10.\n",
    "\n",
    "2. Create a scaled normal distribution object with mean=20.0,\n",
    "   and standard deviation=3.\n",
    "\n",
    "3. Plot this distribution's pdf and cdf side by side in two separate plots.\n",
    "\n",
    "4. Get 5000 random variable samples from the distribution, and use\n",
    "   the stats.norm.fit method to estimate its parameters.\n",
    "   Plot the histogram of the random variables as well as the\n",
    "   pdf for the estimated distribution."
   ]
  },
  {
   "cell_type": "code",
   "execution_count": null,
   "metadata": {
    "collapsed": true
   },
   "outputs": [],
   "source": [
    "from numpy import linspace, arange\n",
    "from scipy.stats import norm, histogram\n",
    "\n",
    "from matplotlib.pylab import plot, clf, show, figure, legend, \\\n",
    "                             title, subplot, bar, hist\n",
    "\n",
    "x = linspace(-10,10, 1001)\n",
    "\n",
    "# Your code here.\n"
   ]
  }
 ],
 "metadata": {
  "kernelspec": {
   "display_name": "Python 2",
   "language": "python",
   "name": "python2"
  },
  "language_info": {
   "codemirror_mode": {
    "name": "ipython",
    "version": 2
   },
   "file_extension": ".py",
   "mimetype": "text/x-python",
   "name": "python",
   "nbconvert_exporter": "python",
   "pygments_lexer": "ipython2",
   "version": "2.7.11"
  }
 },
 "nbformat": 4,
 "nbformat_minor": 0
}

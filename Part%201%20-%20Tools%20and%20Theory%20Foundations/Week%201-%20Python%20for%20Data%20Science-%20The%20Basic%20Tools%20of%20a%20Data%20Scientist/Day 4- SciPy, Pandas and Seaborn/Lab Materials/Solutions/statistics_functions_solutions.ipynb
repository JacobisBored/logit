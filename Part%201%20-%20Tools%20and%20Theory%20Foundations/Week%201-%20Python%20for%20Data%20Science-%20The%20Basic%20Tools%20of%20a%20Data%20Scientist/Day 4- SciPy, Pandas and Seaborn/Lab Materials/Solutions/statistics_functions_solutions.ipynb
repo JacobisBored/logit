{
 "cells": [
  {
   "cell_type": "markdown",
   "metadata": {},
   "source": [
    "## Statistics Functions Solutions\n",
    "\n",
    "1. Create a single plot of the pdf of a normal distribution with mean=0\n",
    "   and standard deviation ranging from 1 to 3.  Plot this on the range\n",
    "   from -10 to 10.\n",
    "\n",
    "2. Create a scaled normal distribution object with mean=20.0,\n",
    "   and standard deviation=3.\n",
    "\n",
    "3. Plot this distribution's pdf and cdf side by side in two separate plots.\n",
    "\n",
    "4. Get 5000 random variable samples from the distribution, and use\n",
    "   the stats.norm.fit method to estimate its parameters.\n",
    "   Plot the histogram of the random variables as well as the\n",
    "   pdf for the estimated distribution."
   ]
  },
  {
   "cell_type": "code",
   "execution_count": null,
   "metadata": {
    "collapsed": true
   },
   "outputs": [],
   "source": [
    "from numpy import linspace, arange\n",
    "from scipy.stats import norm, histogram\n",
    "\n",
    "from matplotlib.pylab import plot, clf, show, figure, legend, \\\n",
    "                             title, subplot, bar, hist\n",
    "\n",
    "x = linspace(-10,10, 1001)\n",
    "\n",
    "# 1. Create a single plot with the pdf of a normal distribution with\n",
    "#    mean=0 and std ranging from 1 to 3.  Plot this on the range from\n",
    "#    -10 to 10.\n",
    "for std in linspace(1, 3, 5):\n",
    "    plot(x, norm.pdf(x, scale=std), label=\"std=%s\" % std)\n",
    "legend()    \n",
    "title(\"Standard Deviation\")    \n",
    "\n",
    "# 2. Create a scaled normal distribution object with mean=20.0,\n",
    "#    and standard devation=3.\n",
    "my_dist = norm(20.0, 3.0)\n",
    "   \n",
    "# 3. Plot this distribution's pdf and cdf side by side in two\n",
    "#    separate plots.\n",
    "x = linspace(0, 40, 1001)\n",
    "\n",
    "figure()\n",
    "subplot(1,2,1)\n",
    "plot(x, my_dist.pdf(x))\n",
    "title(\"PDF of norm(20, 3)\")\n",
    "    \n",
    "subplot(1,2,2)\n",
    "plot(x, my_dist.cdf(x))\n",
    "title(\"CDF of norm(20, 3)\")\n",
    "\n",
    "# 4. Get 5000 random variable samples from the distribution, and use\n",
    "#    the stats.norm.fit method to estimate its parameters.\n",
    "#    Plot the histogram of the random variables as well as the\n",
    "#    pdf for the estimated distribution.\n",
    "random_values = my_dist.rvs(5000)\n",
    "\n",
    "# Calculate the histogram using stats.histogram.\n",
    "num_bins = 50\n",
    "bin_counts, min_bin, bin_width, outside = histogram(random_values, \n",
    "                                                    numbins=num_bins)\n",
    "bin_x = min_bin + bin_width * arange(num_bins)\n",
    "# Normalize the bin counts so that they integrate to 1.0\n",
    "hist_pdf = bin_counts/(len(random_values)*bin_width)\n",
    " \n",
    "mean_est, std_est = norm.fit(random_values)\n",
    "print \"estimate of mean, std:\", mean_est, std_est\n",
    "\n",
    "figure()\n",
    "bar(bin_x, hist_pdf, width=bin_width)\n",
    "\n",
    "# or use pylab.hist...\n",
    "#hist(random_values, bins=50, normed=True)\n",
    "\n",
    "plot(bin_x, norm(mean_est, std_est).pdf(bin_x), 'r', linewidth=2)\n",
    "show()"
   ]
  }
 ],
 "metadata": {
  "kernelspec": {
   "display_name": "Python 2",
   "language": "python",
   "name": "python2"
  },
  "language_info": {
   "codemirror_mode": {
    "name": "ipython",
    "version": 2
   },
   "file_extension": ".py",
   "mimetype": "text/x-python",
   "name": "python",
   "nbconvert_exporter": "python",
   "pygments_lexer": "ipython2",
   "version": "2.7.11"
  }
 },
 "nbformat": 4,
 "nbformat_minor": 0
}

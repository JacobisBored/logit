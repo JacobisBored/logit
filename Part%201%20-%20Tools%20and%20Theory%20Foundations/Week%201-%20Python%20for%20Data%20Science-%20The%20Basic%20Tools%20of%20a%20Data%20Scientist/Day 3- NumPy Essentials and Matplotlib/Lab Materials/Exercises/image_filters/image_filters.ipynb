{
 "cells": [
  {
   "cell_type": "markdown",
   "metadata": {},
   "source": [
    "## Image Filters\n",
    "\n",
    "Read in the \"dc_metro\" image and use an averaging filter\n",
    "to \"smooth\" the image.  Use a \"5 point stencil\" where\n",
    "you average the current pixel with its neighboring pixels::\n",
    "\n",
    "              0 0 0 0 0 0 0\n",
    "              0 0 0 x 0 0 0\n",
    "              0 0 x x x 0 0\n",
    "              0 0 0 x 0 0 0\n",
    "              0 0 0 0 0 0 0\n",
    "\n",
    "  x_ave = ( x_(i,j) + x_(i+1,j) + x_(i-1,j) + x_(i,j+1) + x_(i,j-1) ) / 5 \n",
    "\n",
    "Filter the image by passing the result image through the filter 20 times.\n",
    "Plot the original, the resulting image, and the difference."
   ]
  },
  {
   "cell_type": "code",
   "execution_count": null,
   "metadata": {
    "collapsed": true
   },
   "outputs": [],
   "source": [
    "from matplotlib.pyplot import subplot, imshow, title, show, imread, hot\n",
    "from numpy import empty, hstack\n",
    "\n",
    "img = imread('dc_metro.png')\n",
    "\n",
    "# Your code here\n"
   ]
  }
 ],
 "metadata": {
  "kernelspec": {
   "display_name": "Python 2",
   "language": "python",
   "name": "python2"
  },
  "language_info": {
   "codemirror_mode": {
    "name": "ipython",
    "version": 2
   },
   "file_extension": ".py",
   "mimetype": "text/x-python",
   "name": "python",
   "nbconvert_exporter": "python",
   "pygments_lexer": "ipython2",
   "version": "2.7.11"
  }
 },
 "nbformat": 4,
 "nbformat_minor": 0
}

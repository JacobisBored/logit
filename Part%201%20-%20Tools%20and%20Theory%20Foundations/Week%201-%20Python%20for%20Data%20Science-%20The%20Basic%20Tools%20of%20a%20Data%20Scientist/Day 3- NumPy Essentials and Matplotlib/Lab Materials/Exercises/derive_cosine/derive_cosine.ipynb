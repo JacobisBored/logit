{
 "cells": [
  {
   "cell_type": "markdown",
   "metadata": {},
   "source": [
    "## Derive Cosine\n",
    "\n",
    "Use array slicing and math operations to calculate the\n",
    "numerical derivative of sine from 0 to 2*pi.  Avoid\n",
    "using a looping construct in your solution.\n",
    "\n",
    "Remember, the derivative can be calculated with:\n",
    "\n",
    "    dy/dx = ( y_(i+1) - y_(i) ) / ( x_(i+1) - x_(i) )\n",
    "\n",
    "Plot the derivative of sine as compared to cosine. Direct\n",
    "comparison can be made at the new sampling points:\n",
    "\n",
    "    x_i' = ( x_(i+1) + x_(i) ) / 2"
   ]
  },
  {
   "cell_type": "code",
   "execution_count": null,
   "metadata": {
    "collapsed": true
   },
   "outputs": [],
   "source": [
    "from numpy import linspace, pi, sin, cos\n",
    "from matplotlib.pyplot import plot, show, title\n",
    "\n",
    "# calculate the sin() function on evenly spaced data.\n",
    "x = linspace(0,2*pi,101)\n",
    "y = sin(x)\n",
    "\n",
    "plot(x, y)\n",
    "show()\n",
    "\n",
    "# Insert your code above\n"
   ]
  }
 ],
 "metadata": {
  "kernelspec": {
   "display_name": "Python 2",
   "language": "python",
   "name": "python2"
  },
  "language_info": {
   "codemirror_mode": {
    "name": "ipython",
    "version": 2
   },
   "file_extension": ".py",
   "mimetype": "text/x-python",
   "name": "python",
   "nbconvert_exporter": "python",
   "pygments_lexer": "ipython2",
   "version": "2.7.11"
  }
 },
 "nbformat": 4,
 "nbformat_minor": 0
}

{
 "cells": [
  {
   "cell_type": "markdown",
   "metadata": {},
   "source": [
    "## Dow Volume Solution\n",
    "\n",
    "The array 'dow' is a 2-D array with each row holding the\n",
    "daily performance of the Dow Jones Industrial Average from the\n",
    "beginning of 2008 (dates have been removed for exercise simplicity).\n",
    "The array has the following structure::\n",
    "\n",
    "       OPEN      HIGH      LOW       CLOSE     VOLUME      ADJ_CLOSE\n",
    "       13261.82  13338.23  12969.42  13043.96  3452650000  13043.96\n",
    "       13044.12  13197.43  12968.44  13056.72  3429500000  13056.72\n",
    "       13046.56  13049.65  12740.51  12800.18  4166000000  12800.18\n",
    "       12801.15  12984.95  12640.44  12827.49  4221260000  12827.49\n",
    "       12820.9   12998.11  12511.03  12589.07  4705390000  12589.07\n",
    "       12590.21  12814.97  12431.53  12735.31  5351030000  12735.31\n",
    "\n",
    "0. The data has been loaded from a csv file for you.\n",
    "1. Create a mask that indicates which rows have a volume\n",
    "   greater than 5.5 billion.\n",
    "2. Find the row index where the volume is greater than\n",
    "   5.5 billion.\n",
    "3. Plot the adjusted close for EVERY day in 2008.\n",
    "4. Now over-plot this plot with a 'red dot' marker for every\n",
    "   day where the dow was greater than 5.5 billion.\n"
   ]
  },
  {
   "cell_type": "code",
   "execution_count": null,
   "metadata": {
    "collapsed": true
   },
   "outputs": [],
   "source": [
    "from numpy import loadtxt, sum, where\n",
    "from matplotlib.pyplot import figure, hold, plot, show\n",
    "\n",
    "# Use constants for relevant columns to increase readibility\n",
    "VOLUME, ADJ_CLOSE = 4, 5\n",
    "\n",
    "# 0. The data has been loaded from a csv file for you.\n",
    "dow = loadtxt('dow.csv', delimiter=',')\n",
    "\n",
    "# 1. Create a mask that indicates which rows have a volume\n",
    "#    greater than 5.5 billion.\n",
    "high_volume = dow[:, VOLUME] > 5.5e9\n",
    "\n",
    "# 2. Find the row index where the volume is greater than\n",
    "#    5.5 billion.\n",
    "high_volume_days = where(high_volume)[0]\n",
    "\n",
    "# 3. Plot the adjusted close for EVERY day in 2008.\n",
    "figure()\n",
    "plot(dow[:, ADJ_CLOSE], 'b-')\n",
    "\n",
    "# 4. Now over-plot this plot with a 'red dot' marker for every\n",
    "#    day where the dow was greater than 5.5 billion.\n",
    "plot(high_volume_days, dow[high_volume_days, ADJ_CLOSE], 'ro')\n",
    "show()"
   ]
  }
 ],
 "metadata": {
  "kernelspec": {
   "display_name": "Python 2",
   "language": "python",
   "name": "python2"
  },
  "language_info": {
   "codemirror_mode": {
    "name": "ipython",
    "version": 2
   },
   "file_extension": ".py",
   "mimetype": "text/x-python",
   "name": "python",
   "nbconvert_exporter": "python",
   "pygments_lexer": "ipython2",
   "version": "2.7.11"
  }
 },
 "nbformat": 4,
 "nbformat_minor": 0
}

{
 "cells": [
  {
   "cell_type": "markdown",
   "metadata": {},
   "source": [
    "## Wind Statistics"
   ]
  },
  {
   "cell_type": "code",
   "execution_count": null,
   "metadata": {
    "collapsed": true
   },
   "outputs": [],
   "source": [
    "\"\"\"\n",
    "The data in 'wind.data' has the following format::\n",
    "\n",
    "61  1  1 15.04 14.96 13.17  9.29 13.96  9.87 13.67 10.25 10.83 12.58 18.50 15.04\n",
    "61  1  2 14.71 16.88 10.83  6.50 12.62  7.67 11.50 10.04  9.79  9.67 17.54 13.83\n",
    "61  1  3 18.50 16.88 12.33 10.13 11.17  6.17 11.25  8.04  8.50  7.67 12.75 12.71\n",
    "\n",
    "   The first three columns are year, month and day.  The\n",
    "   remaining 12 columns are average windspeeds in knots at 12\n",
    "   locations in Ireland on that day.\n",
    "\n",
    "1. Use the 'loadtxt' function from numpy to read the data into\n",
    "   an array.\n",
    "\n",
    "2. Calculate the min, max and mean windspeeds and standard deviation of the\n",
    "   windspeeds over all the locations and all the times (a single set of numbers\n",
    "   for the entire dataset).\n",
    "\n",
    "3. Calculate the min, max and mean windspeeds and standard deviations of the\n",
    "   windspeeds at each location over all the days (a different set of numbers\n",
    "   for each location)\n",
    "\n",
    "4. Calculate the min, max and mean windspeed and standard deviations of the\n",
    "   windspeeds across all the locations at each day (a different set of numbers\n",
    "   for each day)\n",
    "\n",
    "5. Find the location which has the greatest windspeed on each day (an integer\n",
    "   column number for each day).\n",
    "\n",
    "6. Find the year, month and day on which the greatest windspeed was recorded.\n",
    "\n",
    "7. Find the average windspeed in January for each location.\n",
    "\n",
    "\n",
    "These data were analyzed in detail in:\n",
    "\n",
    "   Haslett, J. and Raftery, A. E. (1989). Space-time Modelling with\n",
    "   Long-memory Dependence: Assessing Ireland's Wind Power Resource\n",
    "   (with Discussion). Applied Statistics 38, 1-50.\n",
    "\n",
    "\"\"\""
   ]
  },
  {
   "cell_type": "code",
   "execution_count": null,
   "metadata": {
    "collapsed": true
   },
   "outputs": [],
   "source": [
    "from numpy import loadtxt, arange, searchsorted, add, zeros\n",
    "\n",
    "wind_data = loadtxt('wind.data')\n",
    "\n",
    "data = wind_data[:, 3:]\n",
    "\n",
    "print '2. Statistics over all values'\n",
    "print '  min: %s' % data.min()\n",
    "print '  max: %s' % data.max()\n",
    "print '  mean: %s' %  data.mean()\n",
    "print '  standard deviation: %s' % data.std()\n",
    "print\n",
    "\n",
    "print '3. Statistics over all days at each location'\n",
    "print '  min: %s' % data.min(axis=0)\n",
    "print '  max: %s' % data.max(axis=0)\n",
    "print '  mean: %s' % data.mean(axis=0)\n",
    "print '  standard deviation: %s' % data.std(axis=0)\n",
    "print\n",
    "\n",
    "print '4. Statistics over all locations for each day'\n",
    "print '  min: %s' % data.min(axis=1)\n",
    "print '  max: %s' % data.max(axis=1)\n",
    "print '  mean: %s' % data.mean(axis=1)\n",
    "print '  standard deviation: %s' % data.std(axis=1)\n",
    "print\n",
    "\n",
    "print '5. Location of daily maximum'\n",
    "print '  daily max location: %s' % data.argmax(axis=1)\n",
    "print\n",
    "\n",
    "daily_max = data.max(axis=1)\n",
    "max_row = daily_max.argmax()\n",
    "\n",
    "print '6. Day of maximum reading'\n",
    "print '  Year: %s' % int(wind_data[max_row, 0])\n",
    "print '  Month: %s' % int(wind_data[max_row, 1])\n",
    "print '  Day: %s' % int(wind_data[max_row, 2])\n",
    "print\n",
    "\n",
    "print '7. Statistics for January'\n",
    "print '  mean: %s' % data[wind_data[:, 1] == 1].mean(axis=0)\n",
    "print"
   ]
  }
 ],
 "metadata": {
  "kernelspec": {
   "display_name": "Python 2",
   "language": "python",
   "name": "python2"
  },
  "language_info": {
   "codemirror_mode": {
    "name": "ipython",
    "version": 2
   },
   "file_extension": ".py",
   "mimetype": "text/x-python",
   "name": "python",
   "nbconvert_exporter": "python",
   "pygments_lexer": "ipython2",
   "version": "2.7.11"
  }
 },
 "nbformat": 4,
 "nbformat_minor": 0
}

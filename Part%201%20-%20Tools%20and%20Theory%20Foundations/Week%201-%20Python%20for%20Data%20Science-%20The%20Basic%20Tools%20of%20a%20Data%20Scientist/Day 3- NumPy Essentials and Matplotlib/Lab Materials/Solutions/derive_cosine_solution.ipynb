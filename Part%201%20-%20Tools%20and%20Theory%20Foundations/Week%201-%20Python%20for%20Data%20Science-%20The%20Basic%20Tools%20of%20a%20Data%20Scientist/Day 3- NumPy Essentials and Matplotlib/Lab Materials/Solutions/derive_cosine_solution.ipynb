{
 "cells": [
  {
   "cell_type": "markdown",
   "metadata": {},
   "source": [
    "## Derive Cosine Solution"
   ]
  },
  {
   "cell_type": "code",
   "execution_count": null,
   "metadata": {
    "collapsed": true
   },
   "outputs": [],
   "source": [
    "\"\"\"\n",
    "Use array slicing and math operations to calculate the\n",
    "numerical derivative of sine from 0 to 2*pi.  Avoid\n",
    "using a looping construct in your solution.\n",
    "\n",
    "Remember, the derivative can be calculated with:\n",
    "\n",
    "    dy/dx = ( y_(i+1) - y_(i) ) / ( x_(i+1) - x_(i) )\n",
    "\n",
    "Plot the derivative of sine as compared to cosine. Direct\n",
    "comparison can be made at the new sampling points:\n",
    "\n",
    "    x_i' = ( x_(i+1) + x_(i) ) / 2\n",
    "\"\"\""
   ]
  },
  {
   "cell_type": "code",
   "execution_count": null,
   "metadata": {
    "collapsed": true
   },
   "outputs": [],
   "source": [
    "from numpy import linspace, pi, sin, cos\n",
    "from matplotlib.pyplot import plot, show, title\n",
    "\n",
    "# calculate the sin() function on evenly spaced data.\n",
    "x = linspace(0,2*pi,101)\n",
    "y = sin(x)\n",
    "\n",
    "# calculate the derivative dy/dx numerically.\n",
    "dy = y[1:]-y[:-1]\n",
    "dx = x[1:]-x[:-1]\n",
    "cosine = dy/dx\n",
    "\n",
    "# Assuming central differences, these derivative values\n",
    "# are centered in-between our original sample points.\n",
    "x = (x[1:]+x[:-1])/2.0\n",
    "\n",
    "# Plot the derivative compared to the cos function.\n",
    "plot(x, cosine,'rx', x, cos(x),'b-')\n",
    "title(r\"$\\rm{Derivative\\ of}\\ sin(x)$\")\n",
    "show()"
   ]
  }
 ],
 "metadata": {
  "kernelspec": {
   "display_name": "Python 2",
   "language": "python",
   "name": "python2"
  },
  "language_info": {
   "codemirror_mode": {
    "name": "ipython",
    "version": 2
   },
   "file_extension": ".py",
   "mimetype": "text/x-python",
   "name": "python",
   "nbconvert_exporter": "python",
   "pygments_lexer": "ipython2",
   "version": "2.7.11"
  }
 },
 "nbformat": 4,
 "nbformat_minor": 0
}

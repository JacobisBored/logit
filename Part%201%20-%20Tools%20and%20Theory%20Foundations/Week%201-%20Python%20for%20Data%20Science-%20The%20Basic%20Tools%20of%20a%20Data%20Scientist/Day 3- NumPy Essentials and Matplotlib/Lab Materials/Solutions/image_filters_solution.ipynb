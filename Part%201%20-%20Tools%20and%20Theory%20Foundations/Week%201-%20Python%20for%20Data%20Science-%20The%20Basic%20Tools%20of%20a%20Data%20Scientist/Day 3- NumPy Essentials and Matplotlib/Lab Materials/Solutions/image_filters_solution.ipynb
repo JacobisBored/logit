{
 "cells": [
  {
   "cell_type": "markdown",
   "metadata": {},
   "source": [
    "## Image Filters Solution"
   ]
  },
  {
   "cell_type": "code",
   "execution_count": null,
   "metadata": {
    "collapsed": true
   },
   "outputs": [],
   "source": [
    "\"\"\"\n",
    "Read in the \"dc_metro\" image and use an averaging filter\n",
    "to \"smooth\" the image.  Use a \"5 point stencil\" where\n",
    "you average the current pixel with its neighboring pixels::\n",
    "\n",
    "              0 0 0 0 0 0 0\n",
    "              0 0 0 x 0 0 0\n",
    "              0 0 x x x 0 0\n",
    "              0 0 0 x 0 0 0\n",
    "              0 0 0 0 0 0 0\n",
    "\n",
    "  x_ave = ( x_(i,j) + x_(i+1,j) + x_(i-1,j) + x_(i,j+1) + x_(i,j-1) ) / 5 \n",
    "\n",
    "Filter the image by passing the result image through the filter 20 times.\n",
    "Plot the original, the resulting image, and the difference.\n",
    "\"\"\""
   ]
  },
  {
   "cell_type": "code",
   "execution_count": null,
   "metadata": {
    "collapsed": true
   },
   "outputs": [],
   "source": [
    "from matplotlib.pyplot import subplot, imshow, title, show, imread, hot\n",
    "from numpy import empty, hstack\n",
    "\n",
    "def smooth(img):\n",
    "    # construct an array with the border repeated as padding (a good approx)\n",
    "    tmp = empty([i+2 for i in img.shape])\n",
    "    tmp[0] = hstack(([0],img[0],[0]))\n",
    "    tmp[-1] = hstack(([0],img[-1],[0]))\n",
    "    tmp[:,0] = hstack(([0],img[:,0],[0]))\n",
    "    tmp[:,-1] = hstack(([0],img[:,-1],[0]))\n",
    "    tmp[1:-1,1:-1] = img\n",
    "\n",
    "    return (  tmp[1:-1 ,1:-1]  # center\n",
    "            + tmp[ :-2 ,1:-1]  # top\n",
    "            + tmp[2:   ,1:-1]  # bottom\n",
    "            + tmp[1:-1 , :-2]  # left\n",
    "            + tmp[1:-1 ,2:  ]  # right\n",
    "           ) / 5.0\n",
    "\n",
    "img = imread('dc_metro.png')\n",
    "\n",
    "avg_img = img\n",
    "for num in range(20):\n",
    "    avg_img = smooth(avg_img)\n",
    "\n",
    "hot()\n",
    "# Plot the original image first\n",
    "subplot(1,3,1)\n",
    "imshow(img)\n",
    "title('original')\n",
    "\n",
    "# Now the filtered image.\n",
    "subplot(1,3,2)\n",
    "imshow(avg_img)\n",
    "title('smoothed')\n",
    "\n",
    "# And finally the difference between the two.\n",
    "subplot(1,3,3)\n",
    "imshow(img - avg_img)\n",
    "title('difference')\n",
    "show()"
   ]
  }
 ],
 "metadata": {
  "kernelspec": {
   "display_name": "Python 2",
   "language": "python",
   "name": "python2"
  },
  "language_info": {
   "codemirror_mode": {
    "name": "ipython",
    "version": 2
   },
   "file_extension": ".py",
   "mimetype": "text/x-python",
   "name": "python",
   "nbconvert_exporter": "python",
   "pygments_lexer": "ipython2",
   "version": "2.7.11"
  }
 },
 "nbformat": 4,
 "nbformat_minor": 0
}

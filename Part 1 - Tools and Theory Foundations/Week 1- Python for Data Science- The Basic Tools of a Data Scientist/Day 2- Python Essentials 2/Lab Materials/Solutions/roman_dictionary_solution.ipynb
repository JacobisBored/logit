{
 "cells": [
  {
   "cell_type": "markdown",
   "metadata": {},
   "source": [
    "## Roman Dictionary Solution\n",
    "\n",
    "Mark Antony keeps a list of the people he knows in several dictionaries\n",
    "based on their relationship to him::\n",
    "\n",
    "    friends = {'julius': '100 via apian', 'cleopatra': '000 pyramid parkway'}\n",
    "    romans = dict(brutus='234 via tratorium', cassius='111 aqueduct lane')\n",
    "    countrymen = dict([('plebius','786 via bunius'),\n",
    "                       ('plebia', '786 via bunius')])\n",
    "\n",
    "\n",
    "1. Print out the names for all of Antony's friends.\n",
    "2. Now all of their addresses.\n",
    "3. Now print them as \"pairs\".\n",
    "4. Hmmm.  Something unfortunate befell Julius.  Remove him from the\n",
    "   friends list.\n",
    "5. Antony needs to mail everyone for his second-triumvirate party.  Make\n",
    "   a single dictionary containing everyone.\n",
    "6. Antony's stopping over in Egypt and wants to swing by Cleopatra's\n",
    "   place while he is there. Get her address.\n",
    "7. The barbarian hordes have invaded and destroyed all of Rome.\n",
    "   Clear out everyone from the dictionary."
   ]
  },
  {
   "cell_type": "code",
   "execution_count": null,
   "metadata": {
    "collapsed": true
   },
   "outputs": [],
   "source": [
    "friends = {'julius': '100 via apian', 'cleopatra': '000 pyramid parkway'}\n",
    "romans = dict(brutus='234 via tratorium', cassius='111 aqueduct lane')\n",
    "countrymen = dict([('plebius','786 via bunius'), ('plebia', '786 via bunius')])\n",
    "\n",
    "print friends.keys()\n",
    "\n",
    "print friends.values()\n",
    "\n",
    "print friends.items()\n",
    "\n",
    "del friends['julius']\n",
    "\n",
    "#everyone = {}\n",
    "#everyone.update(friends)\n",
    "#everyone.update(romans)\n",
    "#everyone.update(countrymen)\n",
    "#[everyone.update(d) for d in (friends, romans, countrymen)]\n",
    "\n",
    "everyone = dict(friends.items()+romans.items()+countrymen.items())\n",
    "\n",
    "print everyone\n",
    "\n",
    "print everyone['cleopatra']\n",
    "\n",
    "everyone.clear()\n"
   ]
  }
 ],
 "metadata": {
  "kernelspec": {
   "display_name": "Python 2",
   "language": "python",
   "name": "python2"
  },
  "language_info": {
   "codemirror_mode": {
    "name": "ipython",
    "version": 2
   },
   "file_extension": ".py",
   "mimetype": "text/x-python",
   "name": "python",
   "nbconvert_exporter": "python",
   "pygments_lexer": "ipython2",
   "version": "2.7.11"
  }
 },
 "nbformat": 4,
 "nbformat_minor": 0
}

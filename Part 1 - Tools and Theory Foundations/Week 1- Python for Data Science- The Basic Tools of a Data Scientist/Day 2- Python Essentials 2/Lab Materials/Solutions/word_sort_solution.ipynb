{
 "cells": [
  {
   "cell_type": "markdown",
   "metadata": {},
   "source": [
    "## Word Sort\n",
    "\n",
    "Given a some lytics from a song, print the words found in the\n",
    "sentence in alphabetical order.  Also print out just the first\n",
    "three words and the last three words in the sorted list.\n",
    "\n",
    "    lyrics = '''Humpty Dumpty sat on the wall,\n",
    "                Humpty Dumpty had a great fall.\n",
    "                All the king's horses\n",
    "                and all the king's men\n",
    "                couldn't put Humpty Dumpty\n",
    "                together again.\n",
    "             '''\n",
    "\n",
    "Remove all punctuation, and sort ignoring case."
   ]
  },
  {
   "cell_type": "code",
   "execution_count": null,
   "metadata": {
    "collapsed": true
   },
   "outputs": [],
   "source": [
    "lyrics = '''Humpty Dumpty sat on the wall,\n",
    "            Humpty Dumpty had a great fall.\n",
    "            All the king's horses\n",
    "            and all the king's men\n",
    "            couldn't put Humpty Dumpty\n",
    "            together again.\n",
    "         '''\n",
    "\n",
    "# Convert to lower case so case is ignored in sorting.\n",
    "# Replace punctuation, and split the words into a list.\n",
    "# Then sort in place:\n",
    "#words = lyrics.lower().replace('.', '').replace(',', '').split()\n",
    "#words.sort()\n",
    "\n",
    "import string\n",
    "# Alternate (all punctuation):\n",
    "words = lyrics.lower().translate(None, string.punctuation).split()\n",
    "words.sort()\n",
    "\n",
    "# Alternate (preserving case):\n",
    "#words = lyrics.translate(None, string.punctuation).split()\n",
    "#words.sort(key=string.lower)\n",
    "\n",
    "print \"All words, in alphabetical order:\"\n",
    "print words\n",
    "print\n",
    "print \"The first 3 words: \"\n",
    "print words[:3]\n",
    "print\n",
    "print \"The last 3 words: \"\n",
    "print words[-3:]"
   ]
  }
 ],
 "metadata": {
  "kernelspec": {
   "display_name": "Python 2",
   "language": "python",
   "name": "python2"
  },
  "language_info": {
   "codemirror_mode": {
    "name": "ipython",
    "version": 2
   },
   "file_extension": ".py",
   "mimetype": "text/x-python",
   "name": "python",
   "nbconvert_exporter": "python",
   "pygments_lexer": "ipython2",
   "version": "2.7.11"
  }
 },
 "nbformat": 4,
 "nbformat_minor": 0
}

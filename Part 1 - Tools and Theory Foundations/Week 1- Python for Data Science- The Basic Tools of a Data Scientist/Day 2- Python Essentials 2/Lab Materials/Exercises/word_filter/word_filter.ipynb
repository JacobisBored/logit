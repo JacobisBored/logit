{
 "cells": [
  {
   "cell_type": "markdown",
   "metadata": {},
   "source": [
    "## Word Filter\n",
    "\n",
    "Print out only words that start with \"s\"::\n",
    "\n",
    "    speech = '''We shall fight on the beaches,\n",
    "                we shall fight on the landing grounds,\n",
    "                we shall fight in the fields and in the streets,\n",
    "                we shall fight in the hills;\n",
    "                we shall never surrender...\n",
    "             '''\n",
    "\n",
    "Bonus points: print out words only once."
   ]
  },
  {
   "cell_type": "code",
   "execution_count": null,
   "metadata": {
    "collapsed": true
   },
   "outputs": [],
   "source": [
    "speech = '''We shall fight on the beaches,\n",
    "            we shall fight on the landing grounds,\n",
    "            we shall fight in the fields and in the streets,\n",
    "            we shall fight in the hills;\n",
    "            we shall never surrender...\n",
    "         '''\n",
    "\n",
    "# Your code here"
   ]
  }
 ],
 "metadata": {
  "kernelspec": {
   "display_name": "Python 2",
   "language": "python",
   "name": "python2"
  },
  "language_info": {
   "codemirror_mode": {
    "name": "ipython",
    "version": 2
   },
   "file_extension": ".py",
   "mimetype": "text/x-python",
   "name": "python",
   "nbconvert_exporter": "python",
   "pygments_lexer": "ipython2",
   "version": "2.7.11"
  }
 },
 "nbformat": 4,
 "nbformat_minor": 0
}

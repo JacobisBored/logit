{
 "cells": [
  {
   "cell_type": "markdown",
   "metadata": {},
   "source": [
    "## Word Sort\n",
    "\n",
    "Given a some lyrics from a song, print the words found in the\n",
    "sentence in alphabetical order.  Also print out just the first\n",
    "three words and the last three words in the sorted list.\n",
    "\n",
    "    lyrics = '''Humpty Dumpty sat on the wall,\n",
    "                Humpty Dumpty had a great fall.\n",
    "                All the king's horses\n",
    "                and all the king's men\n",
    "                couldn't put Humpty Dumpty\n",
    "                together again.\n",
    "             '''\n",
    "\n",
    "Remove all punctuation, and sort ignoring case."
   ]
  },
  {
   "cell_type": "code",
   "execution_count": null,
   "metadata": {
    "collapsed": true
   },
   "outputs": [],
   "source": [
    "lyrics = '''Humpty Dumpty sat on the wall,\n",
    "            Humpty Dumpty had a great fall.\n",
    "            All the king's horses\n",
    "            and all the king's men\n",
    "            couldn't put Humpty Dumpty\n",
    "            together again.\n",
    "         '''\n",
    "\n",
    "# Your code here\n"
   ]
  }
 ],
 "metadata": {
  "kernelspec": {
   "display_name": "Python 2",
   "language": "python",
   "name": "python2"
  },
  "language_info": {
   "codemirror_mode": {
    "name": "ipython",
    "version": 2
   },
   "file_extension": ".py",
   "mimetype": "text/x-python",
   "name": "python",
   "nbconvert_exporter": "python",
   "pygments_lexer": "ipython2",
   "version": "2.7.11"
  }
 },
 "nbformat": 4,
 "nbformat_minor": 0
}

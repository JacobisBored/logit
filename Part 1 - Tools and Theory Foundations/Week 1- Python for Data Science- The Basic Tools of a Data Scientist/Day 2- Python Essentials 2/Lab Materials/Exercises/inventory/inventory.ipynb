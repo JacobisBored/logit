{
 "cells": [
  {
   "cell_type": "markdown",
   "metadata": {},
   "source": [
    "## Inventory\n",
    "\n",
    "Calculate and report the current inventory in a warehouse.\n",
    "\n",
    "Assume the warehouse is initially empty.\n",
    "\n",
    "The string, warehouse_log, is a stream of deliveries to \n",
    "and shipments from a warehouse.  Each line represents\n",
    "a single transaction for a part with the number of\n",
    "parts delivered or shipped.  It has the form::\n",
    "\n",
    "    part_id count\n",
    "\n",
    "If \"count\" is positive, then it is a delivery to the\n",
    "warehouse. If it is negative, it is a shipment from\n",
    "the warehouse.\n",
    "\n",
    "Use the functions provided in your solution, where process_log\n",
    "parses the warehouse log string, and produces a list of\n",
    "transactions, and process_transactions generates an inventory\n",
    "dict from a list of transactions.  The function generate_inventory\n",
    "calls process_log, then process_transactions."
   ]
  },
  {
   "cell_type": "code",
   "execution_count": null,
   "metadata": {
    "collapsed": true
   },
   "outputs": [],
   "source": [
    "def process_log(log):\n",
    "    \"\"\" Process a warehouse log string containing part names and counts.\n",
    "    Return an iterator for a list of transactions.\n",
    "    \"\"\"\n",
    "    # Your code here\n",
    "    pass\n",
    "\n",
    "\n",
    "def process_transactions(transactions, inventory={}):\n",
    "    \"\"\"Given a list of transactions and optionally an initial inventory,\n",
    "    compute and return the final inventory for each part.\n",
    "    \"\"\"\n",
    "    # Your code here\n",
    "    pass\n",
    "\n",
    "\n",
    "def generate_inventory(log):\n",
    "    \"\"\" Process a warehouse log string containing part names and counts.\n",
    "    Returns a dict with the inventory of each part.\n",
    "    \"\"\"\n",
    "    # Your code here\n",
    "    pass\n",
    "\n",
    "\n",
    "if __name__ == '__main__':\n",
    "\n",
    "    warehouse_log = \"\"\" lightcycle       10\n",
    "                        hoverboard        5\n",
    "                        lightsaber       12\n",
    "                        lightcycle       -3\n",
    "                        lightcycle       20\n",
    "                        phaser           40\n",
    "                        hoverboard       -4\n",
    "                        lightsaber       -8\n",
    "                    \"\"\"\n",
    "\n",
    "    # Your code here\n"
   ]
  }
 ],
 "metadata": {
  "kernelspec": {
   "display_name": "Python 2",
   "language": "python",
   "name": "python2"
  },
  "language_info": {
   "codemirror_mode": {
    "name": "ipython",
    "version": 2
   },
   "file_extension": ".py",
   "mimetype": "text/x-python",
   "name": "python",
   "nbconvert_exporter": "python",
   "pygments_lexer": "ipython2",
   "version": "2.7.11"
  }
 },
 "nbformat": 4,
 "nbformat_minor": 0
}

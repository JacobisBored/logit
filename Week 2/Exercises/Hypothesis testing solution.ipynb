{
 "cells": [
  {
   "cell_type": "markdown",
   "metadata": {},
   "source": [
    "# HYPOTHESIS TESTING EXERCISES - SOLUTION"
   ]
  },
  {
   "cell_type": "code",
   "execution_count": 2,
   "metadata": {
    "collapsed": false
   },
   "outputs": [],
   "source": [
    "%matplotlib inline\n",
    "\n",
    "import numpy as np\n",
    "import pandas as pd\n",
    "import matplotlib.pyplot as plt\n",
    "import statsmodels.api as sm\n",
    "from scipy import stats"
   ]
  },
  {
   "cell_type": "markdown",
   "metadata": {},
   "source": [
    "## EXERCISE 1 - BENFORD'S LAW"
   ]
  },
  {
   "cell_type": "markdown",
   "metadata": {},
   "source": [
    "Verify the validity of Benford's law when applied to 1) the population of a country; 2) the number of breast cancer cases in each country.\n",
    "\n",
    "1. Collect a count of the first digits of all the numbers in the data sets.\n",
    "2. Use a statistical test to compare the observed count to the one expected by Benford's law."
   ]
  },
  {
   "cell_type": "code",
   "execution_count": 19,
   "metadata": {
    "collapsed": false
   },
   "outputs": [],
   "source": [
    "# Load the data set from the `statsmodel` package.\n",
    "import statsmodels.api as sm\n",
    "data = sm.datasets.cancer.load_pandas()\n",
    "\n",
    "population = data.data['population']\n",
    "cancer = data.data['cancer']"
   ]
  },
  {
   "cell_type": "code",
   "execution_count": 20,
   "metadata": {
    "collapsed": false
   },
   "outputs": [],
   "source": [
    "# Compute Benford's distribution.\n",
    "# This is the distribution we need to compare against.\n",
    "digits = np.arange(1, 10)\n",
    "benford_distribution = np.log10(1.0 + 1.0/digits)"
   ]
  },
  {
   "cell_type": "code",
   "execution_count": 21,
   "metadata": {
    "collapsed": false
   },
   "outputs": [],
   "source": [
    "def first_digit(x):\n",
    "    \"\"\" Extract the first digit of a positive integer. \"\"\"\n",
    "    first_char = str(x)[0]\n",
    "    return int(first_char)"
   ]
  },
  {
   "cell_type": "markdown",
   "metadata": {},
   "source": [
    "First, for the population size."
   ]
  },
  {
   "cell_type": "code",
   "execution_count": 22,
   "metadata": {
    "collapsed": false
   },
   "outputs": [],
   "source": [
    "digits = population.apply(first_digit)"
   ]
  },
  {
   "cell_type": "code",
   "execution_count": 26,
   "metadata": {
    "collapsed": false
   },
   "outputs": [
    {
     "name": "stdout",
     "output_type": "stream",
     "text": [
      "301 301\n"
     ]
    },
    {
     "data": {
      "text/plain": [
       "<pandas.core.groupby.SeriesGroupBy object at 0x11443f710>"
      ]
     },
     "execution_count": 26,
     "metadata": {},
     "output_type": "execute_result"
    }
   ],
   "source": [
    "print len(population), len(digits)"
   ]
  },
  {
   "cell_type": "code",
   "execution_count": 27,
   "metadata": {
    "collapsed": false
   },
   "outputs": [
    {
     "name": "stdout",
     "output_type": "stream",
     "text": [
      "population\n",
      "1             78\n",
      "2             69\n",
      "3             37\n",
      "4             25\n",
      "5             20\n",
      "6             24\n",
      "7             21\n",
      "8             14\n",
      "9             13\n",
      "Name: population, dtype: int64\n"
     ]
    }
   ],
   "source": [
    "# Counts of first digits.\n",
    "g = population.groupby(digits)\n",
    "counts = g.count()\n",
    "print counts"
   ]
  },
  {
   "cell_type": "code",
   "execution_count": 30,
   "metadata": {
    "collapsed": false
   },
   "outputs": [
    {
     "data": {
      "text/plain": [
       "array([ 1,  2,  3,  4,  5,  6,  7,  8,  9, 10])"
      ]
     },
     "execution_count": 30,
     "metadata": {},
     "output_type": "execute_result"
    }
   ],
   "source": [
    "np.arange(1, 11)"
   ]
  },
  {
   "cell_type": "code",
   "execution_count": 28,
   "metadata": {
    "collapsed": false
   },
   "outputs": [
    {
     "data": {
      "image/png": "[encoded data removed]",
      "text/plain": [
       "<matplotlib.figure.Figure at 0x11443fdd0>"
      ]
     },
     "metadata": {},
     "output_type": "display_data"
    }
   ],
   "source": [
    "# Compare to Benford's law prediction, visually.\n",
    "predicted_counts = benford_distribution * len(population)\n",
    "digits.hist(bins=np.arange(1, 11) - 0.5)\n",
    "plt.plot(range(1, 10), predicted_counts, 'ro');"
   ]
  },
  {
   "cell_type": "code",
   "execution_count": 29,
   "metadata": {
    "collapsed": false
   },
   "outputs": [
    {
     "name": "stdout",
     "output_type": "stream",
     "text": [
      "Chi-squared=9.43, P=0.31\n"
     ]
    }
   ],
   "source": [
    "# Use the Chi Square test to compare the two distributions.\n",
    "stat, p_value = stats.chisquare(counts, predicted_counts)\n",
    "print 'Chi-squared=%.2f, P=%.2f' % (stat, p_value)"
   ]
  },
  {
   "cell_type": "markdown",
   "metadata": {},
   "source": [
    "We cannot reject the hypothesis that the population size data follows Benford's law."
   ]
  },
  {
   "cell_type": "markdown",
   "metadata": {},
   "source": [
    "Let's do the same for the breast cancer data."
   ]
  },
  {
   "cell_type": "code",
   "execution_count": 31,
   "metadata": {
    "collapsed": false
   },
   "outputs": [
    {
     "name": "stdout",
     "output_type": "stream",
     "text": [
      "cancer\n",
      "1         96\n",
      "2         50\n",
      "3         36\n",
      "4         31\n",
      "5         20\n",
      "6         20\n",
      "7         19\n",
      "8         13\n",
      "9         15\n",
      "Name: population, dtype: int64\n"
     ]
    }
   ],
   "source": [
    "# Remove rows with 0 cases.\n",
    "cancer = cancer[cancer > 0]\n",
    "\n",
    "# Counts of first digits.\n",
    "digits = cancer.apply(first_digit)\n",
    "counts = population.groupby(digits).count()\n",
    "print counts"
   ]
  },
  {
   "cell_type": "code",
   "execution_count": 32,
   "metadata": {
    "collapsed": false
   },
   "outputs": [
    {
     "data": {
      "image/png": "[encoded data removed]",
      "text/plain": [
       "<matplotlib.figure.Figure at 0x11436d4d0>"
      ]
     },
     "metadata": {},
     "output_type": "display_data"
    }
   ],
   "source": [
    "# Compare to Benford's law prediction, visually.\n",
    "predicted_counts = benford_distribution * len(population)\n",
    "digits.hist(bins=np.arange(1, 11) - 0.5)\n",
    "plt.plot(range(1, 10), predicted_counts, 'ro');"
   ]
  },
  {
   "cell_type": "code",
   "execution_count": 33,
   "metadata": {
    "collapsed": false
   },
   "outputs": [
    {
     "name": "stdout",
     "output_type": "stream",
     "text": [
      "Chi-squared=1.91, P=0.98\n"
     ]
    }
   ],
   "source": [
    "# Use the Chi Square test to compare the two distributions.\n",
    "stat, p_value = stats.chisquare(counts, predicted_counts)\n",
    "print 'Chi-squared=%.2f, P=%.2f' % (stat, p_value)"
   ]
  },
  {
   "cell_type": "markdown",
   "metadata": {},
   "source": [
    "We cannot reject the hypothesis that the number of breast cancer cases follows Benford's law."
   ]
  },
  {
   "cell_type": "markdown",
   "metadata": {},
   "source": [
    "## EXERCISE 2 - SUNSPOTS"
   ]
  },
  {
   "cell_type": "markdown",
   "metadata": {},
   "source": [
    "Use a statistical test to check if the number of sunspots has increased significantly in the past 300 years.\n",
    "\n",
    "Given a yearly count of the number of sunspots, from 1700 to 2008:\n",
    "1. Divide the data into two halves.\n",
    "2. Compare the distribution of the two halves statistically. Are the two distributions significantly different?\n",
    "\n",
    "Hint: use stats.ranksums for comparisons."
   ]
  },
  {
   "cell_type": "code",
   "execution_count": 12,
   "metadata": {
    "collapsed": false
   },
   "outputs": [],
   "source": [
    "data = sm.datasets.sunspots.load_pandas()\n",
    "df = data.data\n",
    "df = df.set_index('YEAR')"
   ]
  },
  {
   "cell_type": "code",
   "execution_count": 13,
   "metadata": {
    "collapsed": false
   },
   "outputs": [
    {
     "data": {
      "text/html": [
       "<div style=\"max-height:1000px;max-width:1500px;overflow:auto;\">\n",
       "<table border=\"1\" class=\"dataframe\">\n",
       "  <thead>\n",
       "    <tr style=\"text-align: right;\">\n",
       "      <th></th>\n",
       "      <th>SUNACTIVITY</th>\n",
       "    </tr>\n",
       "    <tr>\n",
       "      <th>YEAR</th>\n",
       "      <th></th>\n",
       "    </tr>\n",
       "  </thead>\n",
       "  <tbody>\n",
       "    <tr>\n",
       "      <th>1700</th>\n",
       "      <td>  5</td>\n",
       "    </tr>\n",
       "    <tr>\n",
       "      <th>1701</th>\n",
       "      <td> 11</td>\n",
       "    </tr>\n",
       "    <tr>\n",
       "      <th>1702</th>\n",
       "      <td> 16</td>\n",
       "    </tr>\n",
       "    <tr>\n",
       "      <th>1703</th>\n",
       "      <td> 23</td>\n",
       "    </tr>\n",
       "    <tr>\n",
       "      <th>1704</th>\n",
       "      <td> 36</td>\n",
       "    </tr>\n",
       "  </tbody>\n",
       "</table>\n",
       "</div>"
      ],
      "text/plain": [
       "      SUNACTIVITY\n",
       "YEAR             \n",
       "1700            5\n",
       "1701           11\n",
       "1702           16\n",
       "1703           23\n",
       "1704           36"
      ]
     },
     "execution_count": 13,
     "metadata": {},
     "output_type": "execute_result"
    }
   ],
   "source": [
    "df.head()"
   ]
  },
  {
   "cell_type": "code",
   "execution_count": 14,
   "metadata": {
    "collapsed": false
   },
   "outputs": [
    {
     "data": {
      "text/plain": [
       "<matplotlib.axes._subplots.AxesSubplot at 0x114289f90>"
      ]
     },
     "execution_count": 14,
     "metadata": {},
     "output_type": "execute_result"
    },
    {
     "data": {
      "image/png": "[encoded data removed]",
      "text/plain": [
       "<matplotlib.figure.Figure at 0x114229510>"
      ]
     },
     "metadata": {},
     "output_type": "display_data"
    }
   ],
   "source": [
    "df.plot()"
   ]
  },
  {
   "cell_type": "code",
   "execution_count": 15,
   "metadata": {
    "collapsed": false
   },
   "outputs": [
    {
     "name": "stdout",
     "output_type": "stream",
     "text": [
      "Mean until 1854: 44.112987013\n",
      "Mean from 1854: 55.3548387097\n"
     ]
    }
   ],
   "source": [
    "half = len(df) // 2\n",
    "first = df.iloc[:half, 0]\n",
    "second = df.iloc[half:, 0]\n",
    "print 'Mean until {:d}: {}'.format(int(df.index[half]), first.mean())\n",
    "print 'Mean from {:d}: {}'.format(int(df.index[half]), second.mean())"
   ]
  },
  {
   "cell_type": "code",
   "execution_count": 16,
   "metadata": {
    "collapsed": false
   },
   "outputs": [
    {
     "data": {
      "text/plain": [
       "<matplotlib.axes._subplots.AxesSubplot at 0x11482f210>"
      ]
     },
     "execution_count": 16,
     "metadata": {},
     "output_type": "execute_result"
    },
    {
     "data": {
      "image/png": "[encoded data removed]",
      "text/plain": [
       "<matplotlib.figure.Figure at 0x11482cc90>"
      ]
     },
     "metadata": {},
     "output_type": "display_data"
    }
   ],
   "source": [
    "bins = np.linspace(0, 200, 30)\n",
    "first.hist(bins=bins, alpha=0.3)\n",
    "second.hist(bins=bins, alpha=0.3)"
   ]
  },
  {
   "cell_type": "code",
   "execution_count": 17,
   "metadata": {
    "collapsed": false
   },
   "outputs": [
    {
     "name": "stdout",
     "output_type": "stream",
     "text": [
      "P value = 0.051598\n"
     ]
    }
   ],
   "source": [
    "t, p = stats.ranksums(first.dropna(), second.dropna())\n",
    "print 'P value = {:.6f}'.format(p)"
   ]
  },
  {
   "cell_type": "markdown",
   "metadata": {},
   "source": [
    "The two distributions are not significantly different, so we cannot claim that the number of sunspots has increased in the second period."
   ]
  },
  {
   "cell_type": "markdown",
   "metadata": {},
   "source": [
    "## EXERCISE 3 - AGE OF RENTERS"
   ]
  },
  {
   "cell_type": "markdown",
   "metadata": {},
   "source": [
    "Is the age of people who own their own house significantly different from the age of people who rent?\n",
    "\n",
    "We are given a data set containing 5 columns:\n",
    "```\n",
    "AVGEXP - Average expenditure on a credit card\n",
    "AGE - Age\n",
    "INCOME - Income\n",
    "INCOMESQ - Income squared\n",
    "OWNRENT - 1 if the subject owns its own house, 0 otherwise\n",
    "```\n",
    "\n",
    "1. Split the data set into owners and renters.\n",
    "2. Use an appropriate statistical test to check if the distribution of age in the two groups is significantly different."
   ]
  },
  {
   "cell_type": "code",
   "execution_count": 18,
   "metadata": {
    "collapsed": false
   },
   "outputs": [],
   "source": [
    "data = sm.datasets.ccard.load_pandas()\n",
    "df = data.data"
   ]
  },
  {
   "cell_type": "code",
   "execution_count": 19,
   "metadata": {
    "collapsed": false
   },
   "outputs": [
    {
     "data": {
      "text/html": [
       "<div style=\"max-height:1000px;max-width:1500px;overflow:auto;\">\n",
       "<table border=\"1\" class=\"dataframe\">\n",
       "  <thead>\n",
       "    <tr style=\"text-align: right;\">\n",
       "      <th></th>\n",
       "      <th>AVGEXP</th>\n",
       "      <th>AGE</th>\n",
       "      <th>INCOME</th>\n",
       "      <th>INCOMESQ</th>\n",
       "      <th>OWNRENT</th>\n",
       "    </tr>\n",
       "  </thead>\n",
       "  <tbody>\n",
       "    <tr>\n",
       "      <th>0</th>\n",
       "      <td> 124.98</td>\n",
       "      <td> 38</td>\n",
       "      <td> 4.52</td>\n",
       "      <td> 20.4304</td>\n",
       "      <td> 1</td>\n",
       "    </tr>\n",
       "    <tr>\n",
       "      <th>1</th>\n",
       "      <td>   9.85</td>\n",
       "      <td> 33</td>\n",
       "      <td> 2.42</td>\n",
       "      <td>  5.8564</td>\n",
       "      <td> 0</td>\n",
       "    </tr>\n",
       "    <tr>\n",
       "      <th>2</th>\n",
       "      <td>  15.00</td>\n",
       "      <td> 34</td>\n",
       "      <td> 4.50</td>\n",
       "      <td> 20.2500</td>\n",
       "      <td> 1</td>\n",
       "    </tr>\n",
       "    <tr>\n",
       "      <th>3</th>\n",
       "      <td> 137.87</td>\n",
       "      <td> 31</td>\n",
       "      <td> 2.54</td>\n",
       "      <td>  6.4516</td>\n",
       "      <td> 0</td>\n",
       "    </tr>\n",
       "    <tr>\n",
       "      <th>4</th>\n",
       "      <td> 546.50</td>\n",
       "      <td> 32</td>\n",
       "      <td> 9.79</td>\n",
       "      <td> 95.8441</td>\n",
       "      <td> 1</td>\n",
       "    </tr>\n",
       "  </tbody>\n",
       "</table>\n",
       "</div>"
      ],
      "text/plain": [
       "   AVGEXP  AGE  INCOME  INCOMESQ  OWNRENT\n",
       "0  124.98   38    4.52   20.4304        1\n",
       "1    9.85   33    2.42    5.8564        0\n",
       "2   15.00   34    4.50   20.2500        1\n",
       "3  137.87   31    2.54    6.4516        0\n",
       "4  546.50   32    9.79   95.8441        1"
      ]
     },
     "execution_count": 19,
     "metadata": {},
     "output_type": "execute_result"
    }
   ],
   "source": [
    "df.head()"
   ]
  },
  {
   "cell_type": "code",
   "execution_count": 20,
   "metadata": {
    "collapsed": false
   },
   "outputs": [],
   "source": [
    "renters = df[df['OWNRENT'] == 0]\n",
    "owners = df[df['OWNRENT'] == 1]"
   ]
  },
  {
   "cell_type": "code",
   "execution_count": 21,
   "metadata": {
    "collapsed": false
   },
   "outputs": [
    {
     "data": {
      "text/plain": [
       "<matplotlib.legend.Legend at 0x1142a6750>"
      ]
     },
     "execution_count": 21,
     "metadata": {},
     "output_type": "execute_result"
    },
    {
     "data": {
      "image/png": "[encoded data removed]",
      "text/plain": [
       "<matplotlib.figure.Figure at 0x1148a7990>"
      ]
     },
     "metadata": {},
     "output_type": "display_data"
    }
   ],
   "source": [
    "bins=10\n",
    "renters.AGE.hist(bins=bins, alpha=0.3)\n",
    "owners.AGE.hist(bins=bins, alpha=0.3)\n",
    "plt.legend(['rents', 'owns'])"
   ]
  },
  {
   "cell_type": "code",
   "execution_count": 22,
   "metadata": {
    "collapsed": false
   },
   "outputs": [
    {
     "name": "stdout",
     "output_type": "stream",
     "text": [
      "P value = 0.000254\n"
     ]
    }
   ],
   "source": [
    "t, p = stats.ranksums(renters.AGE, owners.AGE)\n",
    "print 'P value = {:.6f}'.format(p)"
   ]
  },
  {
   "cell_type": "markdown",
   "metadata": {},
   "source": [
    "We can reject the hypothesis that the distribution of age of renters and owners are the same."
   ]
  },
  {
   "cell_type": "markdown",
   "metadata": {},
   "source": [
    "## EXERCISE 4 - FAIR DIE"
   ]
  },
  {
   "cell_type": "markdown",
   "metadata": {},
   "source": [
    " A six-sided die is rolled 50 times, and the number of occurrences\n",
    "   of each side are recorded in the following table:\n",
    "\n",
    "      +-------------+------+------+------+------+------+------+\n",
    "      | Side        |   1  |   2  |   3  |   4  |   5  |   6  |\n",
    "      +-------------+------+------+------+------+------+------+\n",
    "      | Occurrences |   6  |   1  |   9  |   7  |  14  |  13  |\n",
    "      +-------------+------+------+------+------+------+------+\n",
    "\n",
    "   Is the die fair?   That is, is each side equally likely?  Run a chi square test.\n"
   ]
  },
  {
   "cell_type": "code",
   "execution_count": 9,
   "metadata": {
    "collapsed": false
   },
   "outputs": [
    {
     "name": "stdout",
     "output_type": "stream",
     "text": [
      "p = 0.0167\n",
      "Reject H0: the die is not fair.\n"
     ]
    }
   ],
   "source": [
    "num = np.array([6, 1, 9, 7, 14, 13])\n",
    "\n",
    "pc = num.sum() / 6.0\n",
    "predicted_counts = np.array([pc, pc, pc, pc, pc, pc])\n",
    "\n",
    "chi2, p = stats.chisquare(num, predicted_counts)\n",
    "\n",
    "print \"p = {:6.4f}\".format(p)\n",
    "if p < 0.05:\n",
    "    print \"Reject H0: the die is not fair.\"\n",
    "else:\n",
    "    print \"Do not reject H0: the die might be fair.\""
   ]
  },
  {
   "cell_type": "code",
   "execution_count": null,
   "metadata": {
    "collapsed": false
   },
   "outputs": [],
   "source": []
  }
 ],
 "metadata": {
  "kernelspec": {
   "display_name": "Python 2",
   "language": "python",
   "name": "python2"
  },
  "language_info": {
   "codemirror_mode": {
    "name": "ipython",
    "version": 2
   },
   "file_extension": ".py",
   "mimetype": "text/x-python",
   "name": "python",
   "nbconvert_exporter": "python",
   "pygments_lexer": "ipython2",
   "version": "2.7.11"
  }
 },
 "nbformat": 4,
 "nbformat_minor": 0
}

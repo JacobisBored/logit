{
 "cells": [
  {
   "cell_type": "markdown",
   "metadata": {},
   "source": [
    "# World cities exercise"
   ]
  },
  {
   "cell_type": "markdown",
   "metadata": {},
   "source": [
    "The goal of this exercise is to practice a common workflow for analyzing large data sets by combining Pandas and SQLAlchemy. \n",
    "\n",
    "This exercise uses an edited version of the world cities dataset from maxmind:\n",
    "\n",
    "    https://www.maxmind.com/en/free-world-cities-database\n",
    "\n",
    "For simplicity, the original data has been cleaned by removing all rows\n",
    "with missing values.\n"
   ]
  },
  {
   "cell_type": "code",
   "execution_count": 2,
   "metadata": {
    "collapsed": false
   },
   "outputs": [],
   "source": [
    "# Useful imports.\n",
    "import pandas as pd\n",
    "from sqlalchemy import create_engine, func, select, Column, Integer, MetaData, String, Table\n",
    "from sqlalchemy.orm import sessionmaker"
   ]
  },
  {
   "cell_type": "code",
   "execution_count": 3,
   "metadata": {
    "collapsed": false
   },
   "outputs": [],
   "source": [
    "# Remove any existing database created in previous runs of this notebook.\n",
    "import os\n",
    "\n",
    "if os.path.isfile('world_cities.db'):\n",
    "    os.remove('world_cities.db')"
   ]
  },
  {
   "cell_type": "markdown",
   "metadata": {},
   "source": [
    "**Question 1**\n",
    "\n",
    "Using SQL Alchemy, create a new table which contains population, country and city.\n",
    "Use \"mysql://logit:datascience@[2001:4860:4864:1:8dc:3328:b4fd:c43a]/world_cities.db\" as the URI, to connect to the remote mysql database. Please use read-only or get operations.\n",
    "\n",
    "The table should be called \"cities\" and have 3 columns: \"country\" of type `String`, \"city\" of type `String`, and \"population\", of type `Integer`.\n",
    "\n",
    "TIP: Remember to pass a metadata scheme before trying to read from the database."
   ]
  },
  {
   "cell_type": "code",
   "execution_count": 7,
   "metadata": {
    "collapsed": false
   },
   "outputs": [
    {
     "data": {
      "text/plain": [
       "Engine(mysql://logit:***@[2001:4860:4864:1:8dc:3328:b4fd:c43a]/world_cities.db)"
      ]
     },
     "execution_count": 7,
     "metadata": {},
     "output_type": "execute_result"
    }
   ],
   "source": [
    "# Your code goes here.\n",
    "import MySQLdb as mysql\n",
    "db = create_engine(\"mysql://logit:datascience@[2001:4860:4864:1:8dc:3328:b4fd:c43a]/world_cities.db\", echo=True)\n",
    "db"
   ]
  },
  {
   "cell_type": "code",
   "execution_count": 8,
   "metadata": {
    "collapsed": false
   },
   "outputs": [
    {
     "name": "stdout",
     "output_type": "stream",
     "text": [
      "2016-06-24 15:53:48,348 INFO sqlalchemy.engine.base.Engine SHOW VARIABLES LIKE 'sql_mode'\n",
      "2016-06-24 15:53:48,349 INFO sqlalchemy.engine.base.Engine ()\n",
      "2016-06-24 15:53:48,433 INFO sqlalchemy.engine.base.Engine SELECT DATABASE()\n",
      "2016-06-24 15:53:48,434 INFO sqlalchemy.engine.base.Engine ()\n",
      "2016-06-24 15:53:48,600 INFO sqlalchemy.engine.base.Engine show collation where `Charset` = 'utf8' and `Collation` = 'utf8_bin'\n",
      "2016-06-24 15:53:48,601 INFO sqlalchemy.engine.base.Engine ()\n",
      "2016-06-24 15:53:48,685 INFO sqlalchemy.engine.base.Engine SELECT CAST('test plain returns' AS CHAR(60)) AS anon_1\n",
      "2016-06-24 15:53:48,685 INFO sqlalchemy.engine.base.Engine ()\n",
      "2016-06-24 15:53:48,769 INFO sqlalchemy.engine.base.Engine SELECT CAST('test unicode returns' AS CHAR(60)) AS anon_1\n",
      "2016-06-24 15:53:48,770 INFO sqlalchemy.engine.base.Engine ()\n",
      "2016-06-24 15:53:48,887 INFO sqlalchemy.engine.base.Engine SELECT CAST('test collated returns' AS CHAR CHARACTER SET utf8) COLLATE utf8_bin AS anon_1\n",
      "2016-06-24 15:53:48,888 INFO sqlalchemy.engine.base.Engine ()\n",
      "2016-06-24 15:53:49,131 INFO sqlalchemy.engine.base.Engine DESCRIBE `cities`\n",
      "2016-06-24 15:53:49,132 INFO sqlalchemy.engine.base.Engine ()\n"
     ]
    }
   ],
   "source": [
    "metadata = MetaData()\n",
    "\n",
    "cities = Table('cities',metadata,\n",
    "              Column('country', String),\n",
    "              Column('city', String),\n",
    "              Column('population', Integer))\n",
    "metadata.create_all(db)"
   ]
  },
  {
   "cell_type": "code",
   "execution_count": null,
   "metadata": {
    "collapsed": true
   },
   "outputs": [],
   "source": [
    "r = db.execute "
   ]
  }
 ],
 "metadata": {
  "kernelspec": {
   "display_name": "Python 2",
   "language": "python",
   "name": "python2"
  },
  "language_info": {
   "codemirror_mode": {
    "name": "ipython",
    "version": 2
   },
   "file_extension": ".py",
   "mimetype": "text/x-python",
   "name": "python",
   "nbconvert_exporter": "python",
   "pygments_lexer": "ipython2",
   "version": "2.7.11"
  }
 },
 "nbformat": 4,
 "nbformat_minor": 0
}

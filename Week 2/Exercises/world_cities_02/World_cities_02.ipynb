{
 "cells": [
  {
   "cell_type": "markdown",
   "metadata": {},
   "source": [
    "# World cities exercise"
   ]
  },
  {
   "cell_type": "markdown",
   "metadata": {},
   "source": [
    "The goal of this exercise is to practice a common workflow for analyzing large data sets by combining Pandas and SQLAlchemy. \n",
    "\n",
    "This exercise uses an edited version of the world cities dataset from maxmind:\n",
    "\n",
    "    https://www.maxmind.com/en/free-world-cities-database\n",
    "\n",
    "For simplicity, the original data has been cleaned by removing all rows\n",
    "with missing values.\n"
   ]
  },
  {
   "cell_type": "code",
   "execution_count": 8,
   "metadata": {
    "collapsed": false
   },
   "outputs": [],
   "source": [
    "# Useful imports.\n",
    "import pandas as pd\n",
    "from sqlalchemy import create_engine, func, select, Column, Integer, MetaData, String, Table"
   ]
  },
  {
   "cell_type": "code",
   "execution_count": 2,
   "metadata": {
    "collapsed": false
   },
   "outputs": [],
   "source": [
    "# Remove any existing database created in previous runs of this notebook.\n",
    "import os\n",
    "\n",
    "if os.path.isfile('world_cities.db'):\n",
    "    os.remove('world_cities.db')"
   ]
  },
  {
   "cell_type": "markdown",
   "metadata": {},
   "source": [
    "**Question 1**\n",
    "\n",
    "Using SQL Alchemy, create a new table which contains population, country and city.\n",
    "Use \"sqlite:///world_cities.db\" as the URI, to create an sqlite database in a local file.\n",
    "\n",
    "The table should be called \"cities\" and have 3 columns: \"country\" of type `String`, \"city\" of type `String`, and \"population\", of type `Integer`."
   ]
  },
  {
   "cell_type": "code",
   "execution_count": 3,
   "metadata": {
    "collapsed": false
   },
   "outputs": [],
   "source": [
    "# Your code goes here.\n",
    "import MySQLdb as mysql\n",
    "db  = create_engine(\"sqlite:///world_cities.db\")\n",
    "\n",
    "metadata = MetaData()\n",
    "\n",
    "cities = Table('cities',metadata,\n",
    "              Column('country', String),\n",
    "              Column('city', String),\n",
    "              Column('population', Integer))\n",
    "metadata.create_all(db)"
   ]
  },
  {
   "cell_type": "markdown",
   "metadata": {},
   "source": [
    "**Question 2**\n",
    "\n",
    "Import the data from the file `world_cities.csv` into the newly created table.\n",
    "\n",
    "To make things interesting, let's pretend that the CSV is so large that it does not fit into memory:\n",
    "\n",
    "1. Use Pandas' `read_csv` function to read 10000 lines at the time from the CSV file (using the `chunksize` argument). Column 0 in the file corresponds to the index.\n",
    "2. Iterate over all file chunks and\n",
    "3. Store each resulting data frame to the table using the `to_sql` method. (Hint: Use `if_exists='append'` to append to the DB table, and `index=False` to prevent Pandas from trying to store the index, for which we did not create a column.)"
   ]
  },
  {
   "cell_type": "code",
   "execution_count": 4,
   "metadata": {
    "collapsed": false
   },
   "outputs": [],
   "source": [
    "# Your code goes here.\n",
    "\n",
    "reader = pd.read_csv('world_cities.csv', chunksize=10000, index_col =0)\n",
    "\n",
    "for table in reader:\n",
    "    table.to_sql('cities', db, if_exists='append', index=False)"
   ]
  },
  {
   "cell_type": "markdown",
   "metadata": {},
   "source": [
    "**Question 3**\n",
    "\n",
    "Using SQLAlchemy only, count how many rows are stored in the cities table. (There should be 47979 of them.)"
   ]
  },
  {
   "cell_type": "code",
   "execution_count": 10,
   "metadata": {
    "collapsed": false
   },
   "outputs": [
    {
     "name": "stdout",
     "output_type": "stream",
     "text": [
      "Number of rows: 47979\n"
     ]
    }
   ],
   "source": [
    "# Your code goes here.\n",
    "s = select([cities.c.city]).count()\n",
    "with db.connect() as conn:\n",
    "    print 'Number of rows:', conn.execute(s).scalar()"
   ]
  },
  {
   "cell_type": "markdown",
   "metadata": {},
   "source": [
    "**Question 4**\n",
    "\n",
    "What are the cities with a population above 5 millions people?\n",
    "\n",
    "Using SQLAlchemy, create an appropriate SQL query. Execute the query and create a DataFrame using Pandas' `read_sql` function.\n",
    "\n",
    "Bonus: Change your query to get a dataframe sorted by the population, ideally in descending order."
   ]
  },
  {
   "cell_type": "code",
   "execution_count": null,
   "metadata": {
    "collapsed": false
   },
   "outputs": [],
   "source": [
    "# Your code goes here.\n",
    "pop = select([cities]).where(cities.c.population >5e6).order_by(cities)"
   ]
  },
  {
   "cell_type": "markdown",
   "metadata": {},
   "source": [
    "**Question 5**\n",
    "\n",
    "Compute the number of cities per country: create a \"group by\" query using SQLAlchemy, and import the result in Pandas.\n",
    "\n",
    "Bonus: time the execution of that approach and compare with loading all data into a pandas `DataFrame` and doing the same operation there."
   ]
  },
  {
   "cell_type": "code",
   "execution_count": null,
   "metadata": {
    "collapsed": false
   },
   "outputs": [],
   "source": [
    "# Your code goes here.\n",
    "\n",
    "s = select([func.count(cities.c.city), cities.c.countrty]).group_by"
   ]
  }
 ],
 "metadata": {
  "kernelspec": {
   "display_name": "Python 2",
   "language": "python",
   "name": "python2"
  },
  "language_info": {
   "codemirror_mode": {
    "name": "ipython",
    "version": 2
   },
   "file_extension": ".py",
   "mimetype": "text/x-python",
   "name": "python",
   "nbconvert_exporter": "python",
   "pygments_lexer": "ipython2",
   "version": "2.7.11"
  }
 },
 "nbformat": 4,
 "nbformat_minor": 0
}

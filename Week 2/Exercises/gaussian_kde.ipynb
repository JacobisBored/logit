{
 "cells": [
  {
   "cell_type": "markdown",
   "metadata": {},
   "source": [
    "# Gaussian KDE\n",
    "\n",
    "Estimate a probability density function for a set of random\n",
    "samples using a Gaussian Kernel Density estimator.\n",
    "\n",
    "Create 100 normally distributed samples with mean=0.0\n",
    "and std=1.0 using the stats.norm.rvs method.  Note: this means to try using SciPy instead of NumPy for generating random samples.\n",
    "\n",
    "Use stats.kde.gaussian_kde to estimate the pdf for the\n",
    "distribution of these samples.  Compare that to the analytic\n",
    "pdf for the distribution as well as the histogram of the\n",
    "actual samples over the interval -3, 10.\n",
    "\n",
    "Construct a set of 200 samples from two different normal \n",
    "distributions, mean=0.0, std=0.5 and mean=5.0, std=1.0.\n",
    "As with the first example, compare this against the analytic\n",
    "pdf as well as the histogram of the actual samples over the\n",
    "interval -3, 10."
   ]
  },
  {
   "cell_type": "code",
   "execution_count": 1,
   "metadata": {
    "collapsed": false
   },
   "outputs": [],
   "source": [
    "%matplotlib inline\n",
    "from numpy import linspace, concatenate\n",
    "from scipy import stats\n",
    "from pylab import figure, plot, hold, legend, show, hist\n",
    "\n",
    "# Create a normal distribution object and get 100\n",
    "# samples from it.\n",
    "#dist = stats.norm(0.0,1.0)\n",
    "#samples = dist.rvs(size=100)\n",
    "\n",
    "samples = stats.norm.rvs(size=100)"
   ]
  },
  {
   "cell_type": "code",
   "execution_count": 2,
   "metadata": {
    "collapsed": false
   },
   "outputs": [],
   "source": [
    "# Create gaussian_kde object with the given samples.          \n",
    "estimate = stats.kde.gaussian_kde(samples)\n",
    "domain = linspace(-3,10,131)\n",
    "range_y = estimate.pdf(domain)\n"
   ]
  },
  {
   "cell_type": "code",
   "execution_count": 3,
   "metadata": {
    "collapsed": false
   },
   "outputs": [],
   "source": [
    "# Evaluate the pdf using the gaussian_kde object as well\n",
    "# as the analytic solution available on the stats.norm\n",
    "\n",
    "analytic = stats.norm.pdf(samples)"
   ]
  },
  {
   "cell_type": "code",
   "execution_count": 4,
   "metadata": {
    "collapsed": false
   },
   "outputs": [
    {
     "data": {
      "text/plain": [
       "(array([ 0.01153846,  0.09230769,  0.21923077,  0.46153846,  0.25384615,\n",
       "         0.06923077,  0.04615385,  0.        ,  0.        ,  0.        ,\n",
       "         0.        ,  0.        ,  0.        ,  0.        ,  0.        ]),\n",
       " array([ -3.        ,  -2.13333333,  -1.26666667,  -0.4       ,\n",
       "          0.46666667,   1.33333333,   2.2       ,   3.06666667,\n",
       "          3.93333333,   4.8       ,   5.66666667,   6.53333333,\n",
       "          7.4       ,   8.26666667,   9.13333333,  10.        ]),\n",
       " <a list of 15 Patch objects>)"
      ]
     },
     "execution_count": 4,
     "metadata": {},
     "output_type": "execute_result"
    },
    {
     "data": {
      "image/png": "[encoded data removed]",
      "text/plain": [
       "<matplotlib.figure.Figure at 0x1040bee90>"
      ]
     },
     "metadata": {},
     "output_type": "display_data"
    }
   ],
   "source": [
    "# Display the results\n",
    "figure()\n",
    "plot(domain, range_y)\n",
    "hist(samples, bins=15, range=(-3,10), normed=True, fc= 'w')"
   ]
  },
  {
   "cell_type": "code",
   "execution_count": null,
   "metadata": {
    "collapsed": true
   },
   "outputs": [],
   "source": [
    "# Create two distributions and concatenate them into a single\n",
    "# array of samples."
   ]
  },
  {
   "cell_type": "code",
   "execution_count": null,
   "metadata": {
    "collapsed": true
   },
   "outputs": [],
   "source": [
    "# Construct a gaussian_kde object from the samples and\n",
    "# use it to estimate the pdf.  Also, calculate the analytic\n",
    "# pdf over the same interval.               "
   ]
  },
  {
   "cell_type": "code",
   "execution_count": null,
   "metadata": {
    "collapsed": true
   },
   "outputs": [],
   "source": [
    "# Display the results"
   ]
  },
  {
   "cell_type": "code",
   "execution_count": null,
   "metadata": {
    "collapsed": true
   },
   "outputs": [],
   "source": []
  },
  {
   "cell_type": "code",
   "execution_count": null,
   "metadata": {
    "collapsed": true
   },
   "outputs": [],
   "source": []
  },
  {
   "cell_type": "code",
   "execution_count": null,
   "metadata": {
    "collapsed": true
   },
   "outputs": [],
   "source": []
  }
 ],
 "metadata": {
  "kernelspec": {
   "display_name": "Python 2",
   "language": "python",
   "name": "python2"
  },
  "language_info": {
   "codemirror_mode": {
    "name": "ipython",
    "version": 2
   },
   "file_extension": ".py",
   "mimetype": "text/x-python",
   "name": "python",
   "nbconvert_exporter": "python",
   "pygments_lexer": "ipython2",
   "version": "2.7.11"
  }
 },
 "nbformat": 4,
 "nbformat_minor": 0
}

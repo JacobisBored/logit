{
 "cells": [
  {
   "cell_type": "markdown",
   "metadata": {},
   "source": [
    "# Probability Exercise 2: Light Bulbs\n",
    "\n",
    "## Exercise 2a:\n",
    "\n",
    "Suppose we have 1000 lightbulbs that are plugged in at the same time. Based on lecture slides, how many should we expect to see still lit after 2000 hours? Write some code using NumPy to simulate this scenario. Plot a histogram and count how many lightbulbs last more than 2000 hours. Hint: Look up \"NumPy Random\" to see the possible random distributions available, and use the one most appropriate for this problem."
   ]
  },
  {
   "cell_type": "code",
   "execution_count": 8,
   "metadata": {
    "collapsed": false
   },
   "outputs": [
    {
     "data": {
      "text/plain": [
       "124"
      ]
     },
     "execution_count": 8,
     "metadata": {},
     "output_type": "execute_result"
    },
    {
     "data": {
      "image/png": "[encoded data removed]",
      "text/plain": [
       "<matplotlib.figure.Figure at 0x10c438dd0>"
      ]
     },
     "metadata": {},
     "output_type": "display_data"
    }
   ],
   "source": [
    "%matplotlib inline\n",
    "\n",
    "import matplotlib\n",
    "import numpy as np\n",
    "import matplotlib.pyplot as plt\n",
    "\n",
    "# Your code here\n",
    "\n",
    "lightbulb = np.random.exponential(1000, 1000)\n",
    "\n",
    "plt.hist(lightbulb);\n",
    "\n",
    "(lightbulb >= 2000).sum()"
   ]
  },
  {
   "cell_type": "markdown",
   "metadata": {},
   "source": [
    "## Exercise 2b:\n",
    "\n",
    "How many of the lightbulbs should last longer than average? Should we expect to see 50% of the lightbulbs last longer than average? Why or why not? Count how many lightbulbs from your simulation lasted more than 1000 hours and see how it compares with your expectations."
   ]
  },
  {
   "cell_type": "code",
   "execution_count": 9,
   "metadata": {
    "collapsed": false
   },
   "outputs": [
    {
     "data": {
      "text/plain": [
       "368"
      ]
     },
     "execution_count": 9,
     "metadata": {},
     "output_type": "execute_result"
    }
   ],
   "source": [
    "#approximately 1/3 \n",
    "\n",
    "#Less than half\n",
    "\n",
    "(lightbulb >= 1000).sum()\n",
    "# Your code here"
   ]
  },
  {
   "cell_type": "code",
   "execution_count": null,
   "metadata": {
    "collapsed": true
   },
   "outputs": [],
   "source": []
  }
 ],
 "metadata": {
  "kernelspec": {
   "display_name": "Python 2",
   "language": "python",
   "name": "python2"
  },
  "language_info": {
   "codemirror_mode": {
    "name": "ipython",
    "version": 2
   },
   "file_extension": ".py",
   "mimetype": "text/x-python",
   "name": "python",
   "nbconvert_exporter": "python",
   "pygments_lexer": "ipython2",
   "version": "2.7.11"
  }
 },
 "nbformat": 4,
 "nbformat_minor": 0
}

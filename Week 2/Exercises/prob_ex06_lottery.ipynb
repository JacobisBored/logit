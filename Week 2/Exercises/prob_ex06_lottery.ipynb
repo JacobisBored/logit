{
 "cells": [
  {
   "cell_type": "markdown",
   "metadata": {},
   "source": [
    "## Probability Exercise 6: Lottery\n",
    "\n",
    "The Nebraska Pick 5 lottery lets players pick 5 numbers from the set of numbers from 1 to 38 (without replacement).  Here are the prizes:\n",
    "\n",
    "    Match 2 of 5: 1 dollar \n",
    "    Match 3 of 5: 9 dollars \n",
    "    Match 4 of 5: 450 dollars\n",
    "    Match 5 of 5: 62,000 dollars\n",
    "    \n",
    "Assume each lottery ticket costs 1 dollar.  Simulate playing this game 100,000 times.  How much do you win?\n",
    "\n",
    "Hint: use np.random.choice to choose a set of numbers without replacement.\n"
   ]
  },
  {
   "cell_type": "code",
   "execution_count": 10,
   "metadata": {
    "collapsed": false
   },
   "outputs": [
    {
     "data": {
      "text/plain": [
       "(array([ 9, 28, 15,  3, 20]), array([37, 32, 10,  7, 31]))"
      ]
     },
     "execution_count": 10,
     "metadata": {},
     "output_type": "execute_result"
    }
   ],
   "source": [
    "import numpy as np\n",
    "\n",
    "# Your code here\n",
    "\n",
    "winner = np.random.choice(np.arange(1, 39),5,replace=False)\n",
    "ticket = np.random.choice(np.arange(1, 39),5,replace=False)\n",
    "\n",
    "winner, ticket"
   ]
  },
  {
   "cell_type": "code",
   "execution_count": 11,
   "metadata": {
    "collapsed": false
   },
   "outputs": [
    {
     "data": {
      "text/plain": [
       "0"
      ]
     },
     "execution_count": 11,
     "metadata": {},
     "output_type": "execute_result"
    }
   ],
   "source": [
    "matches = len(np.intersect1d(winner, ticket))"
   ]
  },
  {
   "cell_type": "code",
   "execution_count": 15,
   "metadata": {
    "collapsed": false
   },
   "outputs": [
    {
     "name": "stdout",
     "output_type": "stream",
     "text": [
      "-59646\n"
     ]
    }
   ],
   "source": [
    "def winnings(n, k):\n",
    "    winner = np.random.choice(n, k, replace = False)\n",
    "    ticket = np.random.choice(n, k, replace = False)\n",
    "    matches = 0\n",
    "    for i in ticket:\n",
    "        if i in winner:\n",
    "            matches += 1\n",
    "    if matches == 2:\n",
    "        return 1\n",
    "    elif matches == 3:\n",
    "        return 9\n",
    "    elif matches == 4:\n",
    "        return 450\n",
    "    elif matches == 5:\n",
    "        return 62000\n",
    "    else:\n",
    "        return 0\n",
    "            \n",
    "total_ = 0\n",
    "for j in range(100000):\n",
    "    total_ += winnings(38,5)\n",
    "\n",
    "total_net = total_ - 100000    \n",
    "print total_net"
   ]
  },
  {
   "cell_type": "code",
   "execution_count": null,
   "metadata": {
    "collapsed": true
   },
   "outputs": [],
   "source": []
  }
 ],
 "metadata": {
  "kernelspec": {
   "display_name": "Python 2",
   "language": "python",
   "name": "python2"
  },
  "language_info": {
   "codemirror_mode": {
    "name": "ipython",
    "version": 2
   },
   "file_extension": ".py",
   "mimetype": "text/x-python",
   "name": "python",
   "nbconvert_exporter": "python",
   "pygments_lexer": "ipython2",
   "version": "2.7.11"
  }
 },
 "nbformat": 4,
 "nbformat_minor": 0
}

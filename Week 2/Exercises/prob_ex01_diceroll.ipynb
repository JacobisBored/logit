{
 "cells": [
  {
   "cell_type": "markdown",
   "metadata": {},
   "source": [
    "## Probabilty Exercise 1: A Roll of the Dice\n",
    "\n",
    "If we wanted to simulate rolling a single six-sided die 1000 times, and visualize those rolls in a histogram, it would look something like this:"
   ]
  },
  {
   "cell_type": "code",
   "execution_count": 11,
   "metadata": {
    "collapsed": false
   },
   "outputs": [
    {
     "data": {
      "image/png": "[encoded data removed]",
      "text/plain": [
       "<matplotlib.figure.Figure at 0x10cb02090>"
      ]
     },
     "metadata": {},
     "output_type": "display_data"
    }
   ],
   "source": [
    "%matplotlib inline\n",
    "\n",
    "import matplotlib\n",
    "import numpy as np\n",
    "import matplotlib.pyplot as plt\n",
    "\n",
    "die = np.random.randint(low = 1, high = 7, size = 1000)\n",
    "plt.hist(die, bins = np.arange(0.5, 7.5, 1));"
   ]
  },
  {
   "cell_type": "markdown",
   "metadata": {},
   "source": [
    "### Exercise 1a:\n",
    "\n",
    "What do you notice about the distribution of a single dice roll?"
   ]
  },
  {
   "cell_type": "code",
   "execution_count": 12,
   "metadata": {
    "collapsed": true
   },
   "outputs": [],
   "source": [
    "#discrete distribution\n",
    "# Your answer as a comment here"
   ]
  },
  {
   "cell_type": "markdown",
   "metadata": {},
   "source": [
    "### Exercise 1b:\n",
    "\n",
    "Write a piece of code that simulates the result of rolling 2 dice at the same time, repeated 1000 times, and plot that in a histogram. What do you notice about the distribution for two dice?\n"
   ]
  },
  {
   "cell_type": "code",
   "execution_count": 18,
   "metadata": {
    "collapsed": false
   },
   "outputs": [
    {
     "data": {
      "text/plain": [
       "(array([  34.,   60.,   83.,  104.,  146.,  150.,  168.,   98.,   74.,\n",
       "          47.,   36.]),\n",
       " array([  1.5,   2.5,   3.5,   4.5,   5.5,   6.5,   7.5,   8.5,   9.5,\n",
       "         10.5,  11.5,  12.5]),\n",
       " <a list of 11 Patch objects>)"
      ]
     },
     "execution_count": 18,
     "metadata": {},
     "output_type": "execute_result"
    },
    {
     "data": {
      "image/png": "[encoded data removed]",
      "text/plain": [
       "<matplotlib.figure.Figure at 0x10d0fec50>"
      ]
     },
     "metadata": {},
     "output_type": "display_data"
    }
   ],
   "source": [
    "die_2 = np.random.randint(low = 1, high = 7, size = 1000)\n",
    "plt.hist((die+die_2), bins = np.arange(1.5, 13.5, 1));\n",
    "\n",
    "# Your code here"
   ]
  },
  {
   "cell_type": "markdown",
   "metadata": {},
   "source": [
    "### Exercise 1c:\n",
    "\n",
    "In a similar way, simulate the result of rolling 3 dice, then 10 dice, then 100 dice, each repeated 1000 times, and plot each simulation in a separate histogram. What do you notice about the distributions as the number of dice increases? Is there an underlying reason behind this?\n"
   ]
  },
  {
   "cell_type": "code",
   "execution_count": 20,
   "metadata": {
    "collapsed": false
   },
   "outputs": [
    {
     "data": {
      "text/plain": [
       "(array([   3.,    7.,   27.,   51.,   88.,  114.,  109.,  104.,  127.,\n",
       "         102.,  113.,   61.,   49.,   27.,   12.]),\n",
       " array([  2.5,   3.5,   4.5,   5.5,   6.5,   7.5,   8.5,   9.5,  10.5,\n",
       "         11.5,  12.5,  13.5,  14.5,  15.5,  16.5,  17.5]),\n",
       " <a list of 15 Patch objects>)"
      ]
     },
     "execution_count": 20,
     "metadata": {},
     "output_type": "execute_result"
    },
    {
     "data": {
      "image/png": "[encoded data removed]",
      "text/plain": [
       "<matplotlib.figure.Figure at 0x10c77b890>"
      ]
     },
     "metadata": {},
     "output_type": "display_data"
    }
   ],
   "source": [
    "rolls = np.random.randint(low=1, high = 7, size = 3000)\n",
    "die_3 = np.zeros(1000)\n",
    "\n",
    "for i in range(3000):\n",
    "    die_3[i%1000] += rolls[i]\n",
    "    \n",
    "plt.hist(die_3, bins = np.arange(2.5, 18.5, 1))\n",
    "# Your code for 3 dice here"
   ]
  },
  {
   "cell_type": "code",
   "execution_count": 23,
   "metadata": {
    "collapsed": false
   },
   "outputs": [
    {
     "data": {
      "text/plain": [
       "(array([  0.,   0.,   0.,   0.,   0.,   0.,   0.,   0.,   1.,   0.,   0.,\n",
       "          2.,   3.,   3.,   6.,  10.,  11.,  27.,  35.,  47.,  54.,  64.,\n",
       "         61.,  64.,  72.,  68.,  64.,  72.,  57.,  68.,  51.,  46.,  33.,\n",
       "         25.,  18.,  12.,   9.,   5.,   5.,   4.,   1.,   1.,   0.,   1.,\n",
       "          0.,   0.,   0.,   0.,   0.,   0.]),\n",
       " array([  9.5,  10.5,  11.5,  12.5,  13.5,  14.5,  15.5,  16.5,  17.5,\n",
       "         18.5,  19.5,  20.5,  21.5,  22.5,  23.5,  24.5,  25.5,  26.5,\n",
       "         27.5,  28.5,  29.5,  30.5,  31.5,  32.5,  33.5,  34.5,  35.5,\n",
       "         36.5,  37.5,  38.5,  39.5,  40.5,  41.5,  42.5,  43.5,  44.5,\n",
       "         45.5,  46.5,  47.5,  48.5,  49.5,  50.5,  51.5,  52.5,  53.5,\n",
       "         54.5,  55.5,  56.5,  57.5,  58.5,  59.5]),\n",
       " <a list of 50 Patch objects>)"
      ]
     },
     "execution_count": 23,
     "metadata": {},
     "output_type": "execute_result"
    },
    {
     "data": {
      "image/png": "[encoded data removed]",
      "text/plain": [
       "<matplotlib.figure.Figure at 0x10ce410d0>"
      ]
     },
     "metadata": {},
     "output_type": "display_data"
    }
   ],
   "source": [
    "rolls = np.random.randint(low=1, high = 7, size = 10000)\n",
    "die_10 = np.zeros(1000)\n",
    "\n",
    "for i in range(10000):\n",
    "    die_10[i%1000] += rolls[i]\n",
    "    \n",
    "plt.hist(die_10, bins = np.arange(9.5, 60.5, 1))\n",
    "# Your code for 10 dice here"
   ]
  },
  {
   "cell_type": "code",
   "execution_count": 24,
   "metadata": {
    "collapsed": false
   },
   "outputs": [
    {
     "data": {
      "text/plain": [
       "(array([  0.,   0.,   0.,   0.,   0.,   0.,   0.,   0.,   0.,   0.,   0.,\n",
       "          0.,   0.,   0.,   0.,   0.,   0.,   0.,   0.,   0.,   0.,   0.,\n",
       "          0.,   0.,   0.,   0.,   0.,   0.,   0.,   0.,   0.,   0.,   0.,\n",
       "          0.,   0.,   0.,   0.,   0.,   0.,   0.,   0.,   0.,   0.,   0.,\n",
       "          0.,   0.,   0.,   0.,   0.,   0.,   0.,   0.,   0.,   0.,   0.,\n",
       "          0.,   0.,   0.,   0.,   0.,   0.,   0.,   0.,   0.,   0.,   0.,\n",
       "          0.,   0.,   0.,   0.,   0.,   0.,   0.,   0.,   0.,   0.,   0.,\n",
       "          0.,   0.,   0.,   0.,   0.,   0.,   0.,   0.,   0.,   0.,   0.,\n",
       "          0.,   0.,   0.,   0.,   0.,   0.,   0.,   0.,   0.,   0.,   0.,\n",
       "          0.,   0.,   0.,   0.,   0.,   0.,   0.,   0.,   0.,   0.,   0.,\n",
       "          0.,   0.,   0.,   0.,   0.,   0.,   0.,   0.,   0.,   0.,   0.,\n",
       "          0.,   0.,   0.,   0.,   0.,   0.,   0.,   0.,   0.,   0.,   0.,\n",
       "          0.,   0.,   0.,   0.,   0.,   0.,   0.,   0.,   0.,   0.,   0.,\n",
       "          0.,   0.,   0.,   0.,   0.,   0.,   0.,   0.,   0.,   0.,   0.,\n",
       "          0.,   0.,   0.,   0.,   0.,   0.,   0.,   0.,   0.,   0.,   0.,\n",
       "          0.,   0.,   0.,   0.,   0.,   0.,   0.,   0.,   0.,   0.,   0.,\n",
       "          0.,   0.,   0.,   0.,   0.,   0.,   0.,   0.,   0.,   0.,   0.,\n",
       "          0.,   0.,   0.,   0.,   0.,   0.,   0.,   0.,   0.,   0.,   0.,\n",
       "          1.,   0.,   0.,   1.,   1.,   0.,   1.,   0.,   2.,   0.,   0.,\n",
       "          3.,   1.,   3.,   4.,   4.,   1.,   5.,   3.,   2.,   1.,   2.,\n",
       "          4.,   8.,   5.,   6.,   6.,   8.,   9.,  11.,   9.,   8.,  18.,\n",
       "         14.,  24.,  17.,  13.,  15.,  19.,  16.,  16.,  25.,  18.,  15.,\n",
       "         18.,  22.,  21.,  17.,  25.,  25.,  24.,  27.,  18.,  26.,  21.,\n",
       "         24.,  18.,  25.,  18.,  22.,  21.,  21.,  15.,  19.,  19.,  15.,\n",
       "         16.,  19.,  15.,  10.,  15.,  12.,  17.,   9.,  13.,  10.,  10.,\n",
       "         10.,  12.,   4.,   4.,   5.,   6.,   3.,   1.,   4.,   2.,   3.,\n",
       "          3.,   3.,   3.,   0.,   3.,   1.,   3.,   1.,   0.,   2.,   0.,\n",
       "          0.,   0.,   1.,   0.,   0.,   0.,   0.,   0.,   0.,   0.,   0.,\n",
       "          0.,   0.,   0.,   0.,   0.,   0.,   0.,   0.,   0.,   0.,   0.,\n",
       "          0.,   0.,   0.,   0.,   0.,   0.,   0.,   0.,   0.,   0.,   0.,\n",
       "          0.,   0.,   0.,   0.,   0.,   0.,   0.,   0.,   0.,   0.,   0.,\n",
       "          0.,   0.,   0.,   0.,   0.,   0.,   0.,   0.,   0.,   0.,   0.,\n",
       "          0.,   0.,   0.,   0.,   0.,   0.,   0.,   0.,   0.,   0.,   0.,\n",
       "          0.,   0.,   0.,   0.,   0.,   0.,   0.,   0.,   0.,   0.,   0.,\n",
       "          0.,   0.,   0.,   0.,   0.,   0.,   0.,   0.,   0.,   0.,   0.,\n",
       "          0.,   0.,   0.,   0.,   0.,   0.,   0.,   0.,   0.,   0.,   0.,\n",
       "          0.,   0.,   0.,   0.,   0.,   0.,   0.,   0.,   0.,   0.,   0.,\n",
       "          0.,   0.,   0.,   0.,   0.,   0.,   0.,   0.,   0.,   0.,   0.,\n",
       "          0.,   0.,   0.,   0.,   0.,   0.,   0.,   0.,   0.,   0.,   0.,\n",
       "          0.,   0.,   0.,   0.,   0.,   0.,   0.,   0.,   0.,   0.,   0.,\n",
       "          0.,   0.,   0.,   0.,   0.,   0.,   0.,   0.,   0.,   0.,   0.,\n",
       "          0.,   0.,   0.,   0.,   0.,   0.,   0.,   0.,   0.,   0.,   0.,\n",
       "          0.,   0.,   0.,   0.,   0.,   0.,   0.,   0.,   0.,   0.,   0.,\n",
       "          0.,   0.,   0.,   0.,   0.,   0.,   0.,   0.,   0.,   0.,   0.,\n",
       "          0.,   0.,   0.,   0.,   0.,   0.,   0.,   0.,   0.,   0.,   0.,\n",
       "          0.,   0.,   0.,   0.,   0.]),\n",
       " array([  99.5,  100.5,  101.5,  102.5,  103.5,  104.5,  105.5,  106.5,\n",
       "         107.5,  108.5,  109.5,  110.5,  111.5,  112.5,  113.5,  114.5,\n",
       "         115.5,  116.5,  117.5,  118.5,  119.5,  120.5,  121.5,  122.5,\n",
       "         123.5,  124.5,  125.5,  126.5,  127.5,  128.5,  129.5,  130.5,\n",
       "         131.5,  132.5,  133.5,  134.5,  135.5,  136.5,  137.5,  138.5,\n",
       "         139.5,  140.5,  141.5,  142.5,  143.5,  144.5,  145.5,  146.5,\n",
       "         147.5,  148.5,  149.5,  150.5,  151.5,  152.5,  153.5,  154.5,\n",
       "         155.5,  156.5,  157.5,  158.5,  159.5,  160.5,  161.5,  162.5,\n",
       "         163.5,  164.5,  165.5,  166.5,  167.5,  168.5,  169.5,  170.5,\n",
       "         171.5,  172.5,  173.5,  174.5,  175.5,  176.5,  177.5,  178.5,\n",
       "         179.5,  180.5,  181.5,  182.5,  183.5,  184.5,  185.5,  186.5,\n",
       "         187.5,  188.5,  189.5,  190.5,  191.5,  192.5,  193.5,  194.5,\n",
       "         195.5,  196.5,  197.5,  198.5,  199.5,  200.5,  201.5,  202.5,\n",
       "         203.5,  204.5,  205.5,  206.5,  207.5,  208.5,  209.5,  210.5,\n",
       "         211.5,  212.5,  213.5,  214.5,  215.5,  216.5,  217.5,  218.5,\n",
       "         219.5,  220.5,  221.5,  222.5,  223.5,  224.5,  225.5,  226.5,\n",
       "         227.5,  228.5,  229.5,  230.5,  231.5,  232.5,  233.5,  234.5,\n",
       "         235.5,  236.5,  237.5,  238.5,  239.5,  240.5,  241.5,  242.5,\n",
       "         243.5,  244.5,  245.5,  246.5,  247.5,  248.5,  249.5,  250.5,\n",
       "         251.5,  252.5,  253.5,  254.5,  255.5,  256.5,  257.5,  258.5,\n",
       "         259.5,  260.5,  261.5,  262.5,  263.5,  264.5,  265.5,  266.5,\n",
       "         267.5,  268.5,  269.5,  270.5,  271.5,  272.5,  273.5,  274.5,\n",
       "         275.5,  276.5,  277.5,  278.5,  279.5,  280.5,  281.5,  282.5,\n",
       "         283.5,  284.5,  285.5,  286.5,  287.5,  288.5,  289.5,  290.5,\n",
       "         291.5,  292.5,  293.5,  294.5,  295.5,  296.5,  297.5,  298.5,\n",
       "         299.5,  300.5,  301.5,  302.5,  303.5,  304.5,  305.5,  306.5,\n",
       "         307.5,  308.5,  309.5,  310.5,  311.5,  312.5,  313.5,  314.5,\n",
       "         315.5,  316.5,  317.5,  318.5,  319.5,  320.5,  321.5,  322.5,\n",
       "         323.5,  324.5,  325.5,  326.5,  327.5,  328.5,  329.5,  330.5,\n",
       "         331.5,  332.5,  333.5,  334.5,  335.5,  336.5,  337.5,  338.5,\n",
       "         339.5,  340.5,  341.5,  342.5,  343.5,  344.5,  345.5,  346.5,\n",
       "         347.5,  348.5,  349.5,  350.5,  351.5,  352.5,  353.5,  354.5,\n",
       "         355.5,  356.5,  357.5,  358.5,  359.5,  360.5,  361.5,  362.5,\n",
       "         363.5,  364.5,  365.5,  366.5,  367.5,  368.5,  369.5,  370.5,\n",
       "         371.5,  372.5,  373.5,  374.5,  375.5,  376.5,  377.5,  378.5,\n",
       "         379.5,  380.5,  381.5,  382.5,  383.5,  384.5,  385.5,  386.5,\n",
       "         387.5,  388.5,  389.5,  390.5,  391.5,  392.5,  393.5,  394.5,\n",
       "         395.5,  396.5,  397.5,  398.5,  399.5,  400.5,  401.5,  402.5,\n",
       "         403.5,  404.5,  405.5,  406.5,  407.5,  408.5,  409.5,  410.5,\n",
       "         411.5,  412.5,  413.5,  414.5,  415.5,  416.5,  417.5,  418.5,\n",
       "         419.5,  420.5,  421.5,  422.5,  423.5,  424.5,  425.5,  426.5,\n",
       "         427.5,  428.5,  429.5,  430.5,  431.5,  432.5,  433.5,  434.5,\n",
       "         435.5,  436.5,  437.5,  438.5,  439.5,  440.5,  441.5,  442.5,\n",
       "         443.5,  444.5,  445.5,  446.5,  447.5,  448.5,  449.5,  450.5,\n",
       "         451.5,  452.5,  453.5,  454.5,  455.5,  456.5,  457.5,  458.5,\n",
       "         459.5,  460.5,  461.5,  462.5,  463.5,  464.5,  465.5,  466.5,\n",
       "         467.5,  468.5,  469.5,  470.5,  471.5,  472.5,  473.5,  474.5,\n",
       "         475.5,  476.5,  477.5,  478.5,  479.5,  480.5,  481.5,  482.5,\n",
       "         483.5,  484.5,  485.5,  486.5,  487.5,  488.5,  489.5,  490.5,\n",
       "         491.5,  492.5,  493.5,  494.5,  495.5,  496.5,  497.5,  498.5,\n",
       "         499.5,  500.5,  501.5,  502.5,  503.5,  504.5,  505.5,  506.5,\n",
       "         507.5,  508.5,  509.5,  510.5,  511.5,  512.5,  513.5,  514.5,\n",
       "         515.5,  516.5,  517.5,  518.5,  519.5,  520.5,  521.5,  522.5,\n",
       "         523.5,  524.5,  525.5,  526.5,  527.5,  528.5,  529.5,  530.5,\n",
       "         531.5,  532.5,  533.5,  534.5,  535.5,  536.5,  537.5,  538.5,\n",
       "         539.5,  540.5,  541.5,  542.5,  543.5,  544.5,  545.5,  546.5,\n",
       "         547.5,  548.5,  549.5,  550.5,  551.5,  552.5,  553.5,  554.5,\n",
       "         555.5,  556.5,  557.5,  558.5,  559.5,  560.5,  561.5,  562.5,\n",
       "         563.5,  564.5,  565.5,  566.5,  567.5,  568.5,  569.5,  570.5,\n",
       "         571.5,  572.5,  573.5,  574.5,  575.5,  576.5,  577.5,  578.5,\n",
       "         579.5,  580.5,  581.5,  582.5,  583.5,  584.5,  585.5,  586.5,\n",
       "         587.5,  588.5,  589.5,  590.5,  591.5,  592.5,  593.5,  594.5,\n",
       "         595.5,  596.5,  597.5,  598.5,  599.5]),\n",
       " <a list of 500 Patch objects>)"
      ]
     },
     "execution_count": 24,
     "metadata": {},
     "output_type": "execute_result"
    },
    {
     "data": {
      "image/png": "[encoded data removed]",
      "text/plain": [
       "<matplotlib.figure.Figure at 0x1100d9a50>"
      ]
     },
     "metadata": {},
     "output_type": "display_data"
    }
   ],
   "source": [
    "rolls = np.random.randint(low=1, high = 7, size = 100000)\n",
    "die_100 = np.zeros(1000)\n",
    "\n",
    "for i in range(100000):\n",
    "    die_100[i%1000] += rolls[i]\n",
    "    \n",
    "plt.hist(die_100, bins = np.arange(99.5, 600.5, 1))\n",
    "# Your code for 100 dice here"
   ]
  },
  {
   "cell_type": "markdown",
   "metadata": {},
   "source": [
    "### Exercise 1d:\n",
    "\n",
    "What should the mean and standard deviation be for rolling 100 dice simultaneously? You can work this out using pencil-and-paper, and reference today's lecture slides. Hint: the result of rolling 100 dice can be viewed as the sum of 100 random variables, each random variable representing a single die roll.\n",
    "\n",
    "Based on your calculations, and using the simulation you made for rolling 100 dice 1000 times, how many of those simulated dice rolls had a result that was within 1 standard deviation of the mean? How many should you expect to see?"
   ]
  },
  {
   "cell_type": "code",
   "execution_count": 26,
   "metadata": {
    "collapsed": false
   },
   "outputs": [
    {
     "name": "stdout",
     "output_type": "stream",
     "text": [
      "675\n"
     ]
    }
   ],
   "source": [
    "#mean = np\n",
    "#std = sqrt(np(1-p))\n",
    "\n",
    "within1sdcount =0\n",
    "for i in range(1000):\n",
    "    if die_100[i] >= 333 and die_100[i] <= 367:\n",
    "        within1sdcount +=1\n",
    "print within1sdcount\n",
    "\n",
    "# Your code here"
   ]
  },
  {
   "cell_type": "code",
   "execution_count": null,
   "metadata": {
    "collapsed": true
   },
   "outputs": [],
   "source": []
  }
 ],
 "metadata": {
  "kernelspec": {
   "display_name": "Python 2",
   "language": "python",
   "name": "python2"
  },
  "language_info": {
   "codemirror_mode": {
    "name": "ipython",
    "version": 2
   },
   "file_extension": ".py",
   "mimetype": "text/x-python",
   "name": "python",
   "nbconvert_exporter": "python",
   "pygments_lexer": "ipython2",
   "version": "2.7.11"
  }
 },
 "nbformat": 4,
 "nbformat_minor": 0
}

{
 "cells": [
  {
   "cell_type": "markdown",
   "metadata": {},
   "source": [
    "## Question 3: A System of Linear Equations\n",
    "\n",
    "Find the solution to the system of equations:\n",
    "\\begin{align}\n",
    "    2x_1 + 2x_2 + 2x_4 + 7x_5 + 5x_6 = 5 \\\\\n",
    "    6x_2 + 3x_3 + 7x_5 + 8 x_6 = 4 \\\\\n",
    "    9x_1 + 6x_2 + 4x_3 + x_4 + 6x_5 = 0 \\\\\n",
    "    x_1 + 5x_2 + 3x_3 + 7x_4 + 2x_5 + 2x_6 = 1 \\\\\n",
    "    8x_3 + 5x_4 + 4x_6 = 4 \\\\\n",
    "    8x_1 + 4x_2 + 6x_3 + 2x_4 + 9x_5 + 7x_6 = 8\n",
    "\\end{align}\n",
    "\n",
    "There are a couple different ways to solve this.  Double-check your answer.  Are there any discrepancies when you try to see if the solution works?\n",
    "\n"
   ]
  },
  {
   "cell_type": "code",
   "execution_count": 5,
   "metadata": {
    "collapsed": false
   },
   "outputs": [
    {
     "data": {
      "text/plain": [
       "array([ 0.65826239, -0.51105108, -0.30760205,  0.27166558, -0.31655206,\n",
       "        1.27562213])"
      ]
     },
     "execution_count": 5,
     "metadata": {},
     "output_type": "execute_result"
    }
   ],
   "source": [
    "import numpy as np\n",
    "\n",
    "# Your code here\n",
    "a = np.array([[2,2,0,2,7,5],[0,6,3,0,7,8],[9,6,4,1,6,0],[1,5,3,7,2,2],[0,0,8,5,0,4],[8,4,6,2,9,7]])\n",
    "b = np.array([5,4,0,1,4,8])\n",
    "\n",
    "x = np.linalg.solve(a,b)\n",
    "x"
   ]
  },
  {
   "cell_type": "code",
   "execution_count": 6,
   "metadata": {
    "collapsed": false
   },
   "outputs": [
    {
     "data": {
      "text/plain": [
       "True"
      ]
     },
     "execution_count": 6,
     "metadata": {},
     "output_type": "execute_result"
    }
   ],
   "source": [
    "np.allclose(np.dot(a, x), b)"
   ]
  },
  {
   "cell_type": "code",
   "execution_count": null,
   "metadata": {
    "collapsed": true
   },
   "outputs": [],
   "source": []
  }
 ],
 "metadata": {
  "kernelspec": {
   "display_name": "Python 2",
   "language": "python",
   "name": "python2"
  },
  "language_info": {
   "codemirror_mode": {
    "name": "ipython",
    "version": 2
   },
   "file_extension": ".py",
   "mimetype": "text/x-python",
   "name": "python",
   "nbconvert_exporter": "python",
   "pygments_lexer": "ipython2",
   "version": "2.7.11"
  }
 },
 "nbformat": 4,
 "nbformat_minor": 0
}

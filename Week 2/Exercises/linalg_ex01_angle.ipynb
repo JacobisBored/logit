{
 "cells": [
  {
   "cell_type": "markdown",
   "metadata": {},
   "source": [
    "## Exercise 1: Angle Between Vectors\n",
    "\n",
    "For two vectors v and w, the dot product can be defined as \n",
    "\\begin{align}\n",
    "    v \\cdot w = \\left(||v||\\right) \\left(||w||\\right) \\cos(\\theta)\n",
    "\\end{align}\n",
    "where $||v||$ and $||w||$ are the Euclidean norms of vector v and w respectively, and $\\theta$ is the angle between the two vectors.  Using this equation and tools from NumPy, calculate the angle $\\theta$ between the vectors\n",
    "\n",
    "$$\n",
    "    v = [1, 2, 3, 4, 5, 6, 7, 8, 9]\n",
    "$$\n",
    "\n",
    "and\n",
    "\n",
    "$$\n",
    "    w = [9, 8, 7, 6, 5, 4, 3, 2, 1]\n",
    "$$\n",
    "\n",
    "Hint: look at the NumPy linear algebra (numpy.linalg) routines."
   ]
  },
  {
   "cell_type": "code",
   "execution_count": 3,
   "metadata": {
    "collapsed": false
   },
   "outputs": [],
   "source": [
    "import numpy as np\n",
    "\n",
    "# Your code here.\n",
    "v = [1,2,3,4,5,6,7,8,9]\n",
    "w = [9,8,7,6,5,4,3,2,1]"
   ]
  },
  {
   "cell_type": "code",
   "execution_count": 10,
   "metadata": {
    "collapsed": false
   },
   "outputs": [
    {
     "data": {
      "text/plain": [
       "(16.881943016134134, 16.881943016134134)"
      ]
     },
     "execution_count": 10,
     "metadata": {},
     "output_type": "execute_result"
    }
   ],
   "source": [
    "vn = np.linalg.norm(v)\n",
    "wn = np.linalg.norm(w)"
   ]
  },
  {
   "cell_type": "code",
   "execution_count": 13,
   "metadata": {
    "collapsed": false
   },
   "outputs": [],
   "source": [
    "dot = np.dot(v,w)"
   ]
  },
  {
   "cell_type": "code",
   "execution_count": 14,
   "metadata": {
    "collapsed": false
   },
   "outputs": [],
   "source": [
    "theta = np.arccos(dot/(wn * vn))"
   ]
  },
  {
   "cell_type": "code",
   "execution_count": 16,
   "metadata": {
    "collapsed": false
   },
   "outputs": [
    {
     "data": {
      "text/plain": [
       "54.623459848058403"
      ]
     },
     "execution_count": 16,
     "metadata": {},
     "output_type": "execute_result"
    }
   ],
   "source": [
    "np.degrees(theta)"
   ]
  },
  {
   "cell_type": "code",
   "execution_count": null,
   "metadata": {
    "collapsed": true
   },
   "outputs": [],
   "source": []
  }
 ],
 "metadata": {
  "kernelspec": {
   "display_name": "Python 2",
   "language": "python",
   "name": "python2"
  },
  "language_info": {
   "codemirror_mode": {
    "name": "ipython",
    "version": 2
   },
   "file_extension": ".py",
   "mimetype": "text/x-python",
   "name": "python",
   "nbconvert_exporter": "python",
   "pygments_lexer": "ipython2",
   "version": "2.7.11"
  }
 },
 "nbformat": 4,
 "nbformat_minor": 0
}

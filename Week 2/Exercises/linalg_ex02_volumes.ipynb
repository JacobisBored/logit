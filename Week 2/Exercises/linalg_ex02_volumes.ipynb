{
 "cells": [
  {
   "cell_type": "markdown",
   "metadata": {},
   "source": [
    "## Question 2: Volumes\n",
    "\n",
    "### Part 1: Parallelepiped\n",
    "Find the volume of the parallelepiped defined by the vectors\n",
    "\n",
    "\\begin{align}\n",
    "    a &= [1, 3, 4] \\\\\n",
    "    b &= [2, 4, 3] \\\\\n",
    "    c &= [4, 2, 1]\n",
    "\\end{align}\n",
    "\n",
    "Hint: look through lecture slides."
   ]
  },
  {
   "cell_type": "code",
   "execution_count": 2,
   "metadata": {
    "collapsed": false
   },
   "outputs": [],
   "source": [
    "import numpy as np\n",
    "\n",
    "# Your code here\n",
    "a = np.array([1,3,4])\n",
    "b = np.array([2,4,3])\n",
    "c = np.array([4,2,1])"
   ]
  },
  {
   "cell_type": "code",
   "execution_count": 29,
   "metadata": {
    "collapsed": false
   },
   "outputs": [
    {
     "name": "stdout",
     "output_type": "stream",
     "text": [
      "The volume is: 20\n"
     ]
    }
   ],
   "source": [
    "cross = np.cross(b,c)\n",
    "volume = abs(np.dot(a,cross))\n",
    "print 'The volume is: %d' % volume"
   ]
  },
  {
   "cell_type": "markdown",
   "metadata": {},
   "source": [
    "### Part 2: Another parallelepiped\n",
    "Find the volume of the parallelepiped defined by the vectors\n",
    "\n",
    "\\begin{align}\n",
    "    a &= [7, 4, 7] \\\\\n",
    "    b &= [6, 3, 9] \\\\\n",
    "    c &= [2, 1, 3]\n",
    "\\end{align}\n",
    "\n",
    "Can you explain why we get this answer, in terms of linear algebra and geometry?"
   ]
  },
  {
   "cell_type": "code",
   "execution_count": 30,
   "metadata": {
    "collapsed": true
   },
   "outputs": [],
   "source": [
    "a = np.array([7,4,7])\n",
    "b = np.array([6,3,9])\n",
    "c = np.array([2,1,3])\n"
   ]
  },
  {
   "cell_type": "code",
   "execution_count": 35,
   "metadata": {
    "collapsed": false
   },
   "outputs": [
    {
     "name": "stdout",
     "output_type": "stream",
     "text": [
      "The volume is: 0\n"
     ]
    }
   ],
   "source": [
    "cross2 = np.cross(b,c)\n",
    "volume2 = np.dot(a,cross2)\n",
    "print 'The volume is: %d' % volume2"
   ]
  },
  {
   "cell_type": "code",
   "execution_count": null,
   "metadata": {
    "collapsed": true
   },
   "outputs": [],
   "source": []
  }
 ],
 "metadata": {
  "kernelspec": {
   "display_name": "Python 2",
   "language": "python",
   "name": "python2"
  },
  "language_info": {
   "codemirror_mode": {
    "name": "ipython",
    "version": 2
   },
   "file_extension": ".py",
   "mimetype": "text/x-python",
   "name": "python",
   "nbconvert_exporter": "python",
   "pygments_lexer": "ipython2",
   "version": "2.7.11"
  }
 },
 "nbformat": 4,
 "nbformat_minor": 0
}

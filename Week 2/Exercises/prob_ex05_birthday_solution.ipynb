{
 "cells": [
  {
   "cell_type": "markdown",
   "metadata": {},
   "source": [
    "# Probability Exercise 5: Birthdays\n",
    "\n",
    "In a class of 30 students, what is the probability that at least 2 students share a birthday? Assume birthdays are distributed evenly, and that leap days don't exist (there is no Feb 29th). Do a simulation to test your answer."
   ]
  },
  {
   "cell_type": "markdown",
   "metadata": {},
   "source": [
    "To calculate this, let's start by considering the probability that no two students share a birthday.  In a class of two people, the probability that they don't share a birthday is\n",
    "$$\n",
    "    \\frac{365}{365} \\times \\frac{364}{365}\n",
    "$$\n",
    "since the first person can have any birthday, and the second person cannot have the same birthday as the second person.  The probability that three people don't share a birthday is\n",
    "$$\n",
    "    \\frac{365}{365} \\times \\frac{364}{365} \\times \\frac{363}{365}\n",
    "$$\n",
    "since the third person can't have the same birthday as either of the first two people.\n",
    "\n",
    "The probability that 30 people don't share a birthday is\n",
    "\\begin{align}\n",
    "    &\\frac{365}{365} \\times \\frac{364}{365} \\times \\cdots \\times \\frac{336}{365} \\\\\n",
    "    &= \\frac{365!}{365^{30}(365-30)!} \\\\\n",
    "    &= 0.294\n",
    "\\end{align}\n",
    "So the probability that at least 2 people in a class of 30 do share a birthday is 1-0.294 = 0.706, or a 70.6% chance."
   ]
  },
  {
   "cell_type": "code",
   "execution_count": 2,
   "metadata": {
    "collapsed": false
   },
   "outputs": [
    {
     "name": "stdout",
     "output_type": "stream",
     "text": [
      "7113\n"
     ]
    }
   ],
   "source": [
    "%matplotlib inline\n",
    "\n",
    "import matplotlib\n",
    "import numpy as np\n",
    "import matplotlib.pyplot as plt\n",
    "\n",
    "# To simulate this, we can randomly pick birthdays\n",
    "# (as numbers between 1 and 365) for an array representing 30 people,\n",
    "# and repeat this as many times as we like.  Whenever there is a match,\n",
    "# we add to the birthday_match_count.\n",
    "\n",
    "N = 10000\n",
    "birthday_match_count = 0\n",
    "for i in range(N):\n",
    "    birthdays_of_30 = np.random.randint(low = 1, high = 366, size = 30)\n",
    "    if len(birthdays_of_30) != len(np.unique(birthdays_of_30)):\n",
    "        birthday_match_count += 1\n",
    "print birthday_match_count"
   ]
  },
  {
   "cell_type": "code",
   "execution_count": null,
   "metadata": {
    "collapsed": true
   },
   "outputs": [],
   "source": []
  }
 ],
 "metadata": {
  "kernelspec": {
   "display_name": "Python 2",
   "language": "python",
   "name": "python2"
  },
  "language_info": {
   "codemirror_mode": {
    "name": "ipython",
    "version": 2
   },
   "file_extension": ".py",
   "mimetype": "text/x-python",
   "name": "python",
   "nbconvert_exporter": "python",
   "pygments_lexer": "ipython2",
   "version": "2.7.11"
  }
 },
 "nbformat": 4,
 "nbformat_minor": 0
}

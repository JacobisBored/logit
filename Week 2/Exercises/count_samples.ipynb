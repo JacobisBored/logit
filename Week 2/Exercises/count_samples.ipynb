{
 "cells": [
  {
   "cell_type": "markdown",
   "metadata": {},
   "source": [
    "## Count Samples\n",
    "\n",
    "You are given the following string:\n",
    "\n",
    "   samples = \"s s s S l L l l L q q Q q s s L l q \"\n",
    "\n",
    "\"samples\" is a string of lithology flags where each character\n",
    "represents the predominant lithology for a well sampling.\n",
    "\n",
    "* s: shale\n",
    "* q: quartz\n",
    "* l: limestone\n",
    "\n",
    "Ignoring case, find the percentage of each lithology type\n",
    "within the well."
   ]
  },
  {
   "cell_type": "code",
   "execution_count": 21,
   "metadata": {
    "collapsed": false
   },
   "outputs": [
    {
     "name": "stdout",
     "output_type": "stream",
     "text": [
      "18.0\n"
     ]
    }
   ],
   "source": [
    "samples = \"s s s S l L l l L q q Q q s s L l q \"\n",
    "\n",
    "# Your code here\n",
    "\n",
    "total = float(len(samples.lower().split()))\n",
    "print total"
   ]
  },
  {
   "cell_type": "code",
   "execution_count": 22,
   "metadata": {
    "collapsed": true
   },
   "outputs": [],
   "source": [
    "percent_s = samples.lower().count('s') / total * 100."
   ]
  },
  {
   "cell_type": "code",
   "execution_count": 23,
   "metadata": {
    "collapsed": true
   },
   "outputs": [],
   "source": [
    "percent_q = samples.lower().count('q') / total * 100."
   ]
  },
  {
   "cell_type": "code",
   "execution_count": 24,
   "metadata": {
    "collapsed": true
   },
   "outputs": [],
   "source": [
    "percent_l = samples.lower().count('l') / total * 100."
   ]
  },
  {
   "cell_type": "code",
   "execution_count": 25,
   "metadata": {
    "collapsed": false
   },
   "outputs": [
    {
     "name": "stdout",
     "output_type": "stream",
     "text": [
      "The percent shale is: 33.333333\n",
      "The percent quartz is: 27.777778\n",
      "The percent limestone is: 38.888889\n"
     ]
    }
   ],
   "source": [
    "print \"The percent shale is: %f\" % percent_s \n",
    "print \"The percent quartz is: %f\" % percent_q\n",
    "print \"The percent limestone is: %f\" % percent_l"
   ]
  },
  {
   "cell_type": "code",
   "execution_count": null,
   "metadata": {
    "collapsed": true
   },
   "outputs": [],
   "source": []
  }
 ],
 "metadata": {
  "kernelspec": {
   "display_name": "Python 2",
   "language": "python",
   "name": "python2"
  },
  "language_info": {
   "codemirror_mode": {
    "name": "ipython",
    "version": 2
   },
   "file_extension": ".py",
   "mimetype": "text/x-python",
   "name": "python",
   "nbconvert_exporter": "python",
   "pygments_lexer": "ipython2",
   "version": "2.7.11"
  }
 },
 "nbformat": 4,
 "nbformat_minor": 0
}

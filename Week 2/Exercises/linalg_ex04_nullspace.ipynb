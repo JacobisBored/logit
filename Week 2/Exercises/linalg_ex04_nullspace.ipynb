{
 "cells": [
  {
   "cell_type": "markdown",
   "metadata": {},
   "source": [
    "## Question 4: Nullspace\n",
    "\n",
    "Describe the nullspace for the matrix D:\n",
    "\n",
    "$$\n",
    "    D = \n",
    "    \\begin{bmatrix}\n",
    "        4 & 5 & 0 & 6 \\\\\n",
    "        9 & 5 & 3 & 9 \\\\\n",
    "        5 & 0 & 3 & 3 \\\\\n",
    "        1 & -5 & 3 & -3\n",
    "    \\end{bmatrix}\n",
    "$$\n",
    "\n",
    "i.e., what is the set of vectors x such that Dx = 0 (the zero vector)?"
   ]
  },
  {
   "cell_type": "code",
   "execution_count": 1,
   "metadata": {
    "collapsed": true
   },
   "outputs": [],
   "source": [
    "import numpy as np\n",
    "from sympy import Matrix\n",
    "\n",
    "# Your code here\n"
   ]
  },
  {
   "cell_type": "code",
   "execution_count": 5,
   "metadata": {
    "collapsed": true
   },
   "outputs": [],
   "source": [
    "d = Matrix([[4,5,0,6],[9,5,3,9],[5,0,3,3],[1,-5,3,-3]])"
   ]
  },
  {
   "cell_type": "code",
   "execution_count": 6,
   "metadata": {
    "collapsed": false
   },
   "outputs": [
    {
     "data": {
      "text/plain": [
       "Matrix([\n",
       "[4,  5, 0,  6],\n",
       "[9,  5, 3,  9],\n",
       "[5,  0, 3,  3],\n",
       "[1, -5, 3, -3]])"
      ]
     },
     "execution_count": 6,
     "metadata": {},
     "output_type": "execute_result"
    }
   ],
   "source": [
    "d"
   ]
  },
  {
   "cell_type": "code",
   "execution_count": 7,
   "metadata": {
    "collapsed": false
   },
   "outputs": [
    {
     "data": {
      "text/plain": [
       "[Matrix([\n",
       " [ -3/5],\n",
       " [12/25],\n",
       " [    1],\n",
       " [    0]]), Matrix([\n",
       " [  -3/5],\n",
       " [-18/25],\n",
       " [     0],\n",
       " [     1]])]"
      ]
     },
     "execution_count": 7,
     "metadata": {},
     "output_type": "execute_result"
    }
   ],
   "source": [
    "d.nullspace()"
   ]
  },
  {
   "cell_type": "code",
   "execution_count": null,
   "metadata": {
    "collapsed": true
   },
   "outputs": [],
   "source": []
  }
 ],
 "metadata": {
  "kernelspec": {
   "display_name": "Python 2",
   "language": "python",
   "name": "python2"
  },
  "language_info": {
   "codemirror_mode": {
    "name": "ipython",
    "version": 2
   },
   "file_extension": ".py",
   "mimetype": "text/x-python",
   "name": "python",
   "nbconvert_exporter": "python",
   "pygments_lexer": "ipython2",
   "version": "2.7.11"
  }
 },
 "nbformat": 4,
 "nbformat_minor": 0
}

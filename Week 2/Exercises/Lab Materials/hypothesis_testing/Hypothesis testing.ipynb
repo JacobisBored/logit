{
 "cells": [
  {
   "cell_type": "markdown",
   "metadata": {},
   "source": [
    "# HYPOTHESIS TESTING EXERCISES"
   ]
  },
  {
   "cell_type": "code",
   "execution_count": 1,
   "metadata": {
    "collapsed": false
   },
   "outputs": [],
   "source": [
    "%matplotlib inline\n",
    "\n",
    "import numpy as np\n",
    "import pandas as pd\n",
    "import matplotlib.pyplot as plt\n",
    "import statsmodels.api as sm\n",
    "from scipy import stats"
   ]
  },
  {
   "cell_type": "markdown",
   "metadata": {},
   "source": [
    "## EXERCISE 1 - BENFORD'S LAW"
   ]
  },
  {
   "cell_type": "markdown",
   "metadata": {},
   "source": [
    "Verify the validity of Benford's law when applied to 1) the population of a country; 2) the number of breast cancer cases in each country.\n",
    "\n",
    "1. Collect a count of the first digits of all the numbers in the data sets.\n",
    "2. Use a statistical test to compare the observed count to the one expected by Benford's law."
   ]
  },
  {
   "cell_type": "code",
   "execution_count": 2,
   "metadata": {
    "collapsed": false
   },
   "outputs": [],
   "source": [
    "# Load the data set from the `statsmodel` package.\n",
    "import statsmodels.api as sm\n",
    "data = sm.datasets.cancer.load_pandas()\n",
    "\n",
    "population = data.data['population']\n",
    "cancer = data.data['cancer']"
   ]
  },
  {
   "cell_type": "code",
   "execution_count": 10,
   "metadata": {
    "collapsed": false
   },
   "outputs": [
    {
     "data": {
      "text/plain": [
       "[<matplotlib.lines.Line2D at 0x117b59b90>]"
      ]
     },
     "execution_count": 10,
     "metadata": {},
     "output_type": "execute_result"
    },
    {
     "data": {
      "image/png": "[encoded data removed]",
      "text/plain": [
       "<matplotlib.figure.Figure at 0x117a16750>"
      ]
     },
     "metadata": {},
     "output_type": "display_data"
    }
   ],
   "source": [
    "# Compute Benford's distribution.\n",
    "# This is the distribution we need to compare against.\n",
    "digits = np.arange(1, 10)\n",
    "benford_distribution = np.log10(1.0 + 1.0/digits)\n",
    "plt.plot(digits, benford_distribution)"
   ]
  },
  {
   "cell_type": "code",
   "execution_count": 49,
   "metadata": {
    "collapsed": false
   },
   "outputs": [],
   "source": [
    "# Your code goes here!\n",
    "total = []\n",
    "for item in population:\n",
    "    total.append(str(item)[0])\n",
    "cancer_count = [96,50,36,31,20,20,19,13,15]    \n",
    "population_count = [78,69,37,25,20,24,21,14,12]"
   ]
  },
  {
   "cell_type": "markdown",
   "metadata": {},
   "source": [
    "## EXERCISE 2 - SUNSPOTS"
   ]
  },
  {
   "cell_type": "markdown",
   "metadata": {},
   "source": [
    "Use a statistical test to check if the number of sunspots has increased significantly in the past 300 years.\n",
    "\n",
    "Given a yearly count of the number of sunspots, from 1700 to 2008:\n",
    "1. Divide the data into two halves.\n",
    "2. Compare the distribution of the two halves statistically. Are the two distributions significantly different?\n",
    "\n",
    "Hint: use stats.ranksums for comparisons."
   ]
  },
  {
   "cell_type": "code",
   "execution_count": null,
   "metadata": {
    "collapsed": false
   },
   "outputs": [],
   "source": [
    "data = sm.datasets.sunspots.load_pandas()\n",
    "df = data.data\n",
    "df = df.set_index('YEAR')"
   ]
  },
  {
   "cell_type": "code",
   "execution_count": null,
   "metadata": {
    "collapsed": false
   },
   "outputs": [],
   "source": [
    "df.head()"
   ]
  },
  {
   "cell_type": "code",
   "execution_count": null,
   "metadata": {
    "collapsed": false
   },
   "outputs": [],
   "source": [
    "# Your code goes here!"
   ]
  },
  {
   "cell_type": "markdown",
   "metadata": {},
   "source": [
    "## EXERCISE 3 - AGE OF RENTERS"
   ]
  },
  {
   "cell_type": "markdown",
   "metadata": {},
   "source": [
    "Is the age of people who own their own house significantly different from the age of people who rent?\n",
    "\n",
    "We are given a data set containing 5 columns:\n",
    "```\n",
    "AVGEXP - Average expenditure on a credit card\n",
    "AGE - Age\n",
    "INCOME - Income\n",
    "INCOMESQ - Income squared\n",
    "OWNRENT - 1 if the subject owns its own house, 0 otherwise\n",
    "```\n",
    "\n",
    "1. Split the data set into owners and renters.\n",
    "2. Use an appropriate statistical test to check if the distribution of age in the two groups is significantly different. "
   ]
  },
  {
   "cell_type": "code",
   "execution_count": null,
   "metadata": {
    "collapsed": false
   },
   "outputs": [],
   "source": [
    "data = sm.datasets.ccard.load_pandas()\n",
    "df = data.data"
   ]
  },
  {
   "cell_type": "code",
   "execution_count": null,
   "metadata": {
    "collapsed": false
   },
   "outputs": [],
   "source": [
    "df.head()"
   ]
  },
  {
   "cell_type": "code",
   "execution_count": null,
   "metadata": {
    "collapsed": false
   },
   "outputs": [],
   "source": [
    "# Your code goes here!"
   ]
  },
  {
   "cell_type": "markdown",
   "metadata": {},
   "source": [
    "## EXERCISE 4 - FAIR DIE"
   ]
  },
  {
   "cell_type": "markdown",
   "metadata": {},
   "source": [
    " A six-sided die is rolled 50 times, and the number of occurrences\n",
    "   of each side are recorded in the following table:\n",
    "\n",
    "      +-------------+------+------+------+------+------+------+\n",
    "      | Side        |   1  |   2  |   3  |   4  |   5  |   6  |\n",
    "      +-------------+------+------+------+------+------+------+\n",
    "      | Occurrences |   6  |   1  |   9  |   7  |  14  |  13  |\n",
    "      +-------------+------+------+------+------+------+------+\n",
    "\n",
    "   Is the die fair?   That is, is each side equally likely?  Run a chi square test."
   ]
  },
  {
   "cell_type": "code",
   "execution_count": 1,
   "metadata": {
    "collapsed": false
   },
   "outputs": [],
   "source": [
    "# Your code goes here!"
   ]
  },
  {
   "cell_type": "code",
   "execution_count": null,
   "metadata": {
    "collapsed": true
   },
   "outputs": [],
   "source": []
  }
 ],
 "metadata": {
  "kernelspec": {
   "display_name": "Python 2",
   "language": "python",
   "name": "python2"
  },
  "language_info": {
   "codemirror_mode": {
    "name": "ipython",
    "version": 2
   },
   "file_extension": ".py",
   "mimetype": "text/x-python",
   "name": "python",
   "nbconvert_exporter": "python",
   "pygments_lexer": "ipython2",
   "version": "2.7.11"
  }
 },
 "nbformat": 4,
 "nbformat_minor": 0
}

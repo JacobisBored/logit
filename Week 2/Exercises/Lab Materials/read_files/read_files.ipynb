{
 "cells": [
  {
   "cell_type": "markdown",
   "metadata": {},
   "source": [
    "## Read Files"
   ]
  },
  {
   "cell_type": "code",
   "execution_count": null,
   "metadata": {
    "collapsed": true
   },
   "outputs": [],
   "source": [
    "\"\"\"\n",
    "In the following, you are asked to use genfromtxt() or loadtxt() to\n",
    "read a text file into a numpy array.  These files demonstrate some\n",
    "common challenges that arise when reading text files.\n",
    "\n",
    "1. The file data1.out looks like this::\n",
    "\n",
    "      NAME|RATIO|ALPHA|BETA|AGE\n",
    "      BE45|1.3|99.32|14.3|17.5\n",
    "      WN33|5.1|78.19|18.0|5.3\n",
    "      KP10||48.19|65.0|24.0\n",
    "      KM44|6.6|81.25|31.0|16.0\n",
    "      KM45|6.6|80.00|34.0|16.0\n",
    "      KR21||45.0|60.0|24.0\n",
    "      WN51|5.5|80.00|15.0|4.0\n",
    "\n",
    "   Note that the fields are separated with a vertical bar.  Also note that\n",
    "   there are a few missing values in the \"RATIO\" column.\n",
    "  \n",
    "   Use genfromtxt(), with appropriate arguments, to read this data into a\n",
    "   structured array.  Replace the missing \"RATIO\" values with the value 1.0\n",
    "   as the data is read.\n",
    "  \n",
    "   Print the mean values of the RATIO and AGE columns.\n",
    "\"\"\""
   ]
  },
  {
   "cell_type": "code",
   "execution_count": 35,
   "metadata": {
    "collapsed": false
   },
   "outputs": [],
   "source": [
    "%matplotlib inline\n",
    "import matplotlib.pyplot as plt\n",
    "from numpy import genfromtxt\n",
    "import numpy as np\n",
    "\n",
    "# Your code here\n",
    "data = genfromtxt('data1.out', names= True, delimiter ='|', missing_values = \"\", filling_values = 1.0, dtype=None)\n",
    "\n",
    "data['RATIO'].mean()\n",
    "data"
   ]
  },
  {
   "cell_type": "code",
   "execution_count": null,
   "metadata": {
    "collapsed": true
   },
   "outputs": [],
   "source": [
    "'''2. Last year your summer intern developed a FORTRAN program which wrote three\n",
    "   columns of data (x, y, and z) to a text file.  You have just run it again,\n",
    "   but with parameter values very different from what you used last time.\n",
    "   You find that the output, data2.out, contains these lines::\n",
    "\n",
    "       5.000 80.103  4.003\n",
    "      15.000 84.544  1.984\n",
    "      25.000 95.041  2.887\n",
    "      35.000 99.522  4.095\n",
    "      45.000107.543  5.163\n",
    "      55.000113.834  6.554\n",
    "      65.000117.543  8.234\n",
    "      75.000121.077 11.400\n",
    "      85.000120.813 13.481\n",
    "      95.000119.549 15.333\n",
    "     105.000117.435 16.501\n",
    "\n",
    "   There are supposed to be three columns, but the values in the middle\n",
    "   column are bigger than before, and now there is no space between the first\n",
    "   and second columns after the first four rows.\n",
    "\n",
    "   genfromtxt() can deal with this; read the docstring, paying special\n",
    "   attention to the 'delimiter' argument.\n",
    "\n",
    "   Use genfromtxt() to read this file, and use matplotlib with subplot to\n",
    "   make two plots, y vs. x and z vs. x, in a single plot figure.\n",
    "'''"
   ]
  },
  {
   "cell_type": "code",
   "execution_count": 17,
   "metadata": {
    "collapsed": false
   },
   "outputs": [
    {
     "data": {
      "text/plain": [
       "array([[   5.   ,   80.103,    4.003],\n",
       "       [  15.   ,   84.544,    1.984],\n",
       "       [  25.   ,   95.041,    2.887],\n",
       "       [  35.   ,   99.522,    4.095],\n",
       "       [  45.   ,  107.543,    5.163],\n",
       "       [  55.   ,  113.834,    6.554],\n",
       "       [  65.   ,  117.543,    8.234],\n",
       "       [  75.   ,  121.077,   11.4  ],\n",
       "       [  85.   ,  120.813,   13.481],\n",
       "       [  95.   ,  119.549,   15.333],\n",
       "       [ 105.   ,  117.435,   16.501]])"
      ]
     },
     "execution_count": 17,
     "metadata": {},
     "output_type": "execute_result"
    }
   ],
   "source": [
    "data2 = genfromtxt('data2.out', delimiter =[7,7,7], dtype=None)\n",
    "\n",
    "data2"
   ]
  },
  {
   "cell_type": "code",
   "execution_count": null,
   "metadata": {
    "collapsed": true
   },
   "outputs": [],
   "source": [
    "'''\n",
    "3. Here is the file data3.csv::\n",
    "\n",
    "      code,sales,zip\n",
    "      ER,17.5,78701\n",
    "      ER,8.9,78704\n",
    "      ER,1.4,78703\n",
    "      ER,19.2,77036\n",
    "      ER,18.1,77251\n",
    "      ER,4.0,77281\n",
    "      HN,1.4,80026\n",
    "      HN,3.2,80301\n",
    "      HN,0.5,80302\n",
    "      HN,1.0,80303\n",
    "      HN,0.3,80466\n",
    "      KP,4.9,02101\n",
    "      KP,0.2,02102\n",
    "      KP,1.0,02103\n",
    "      KP,0.9,02104\n",
    "      KP,1.8,02105\n",
    "      TY,0.3,04401\n",
    "      TY,0.1,04406\n",
    " \n",
    "   The third column is a Zip Code.  Read this data into a numpy structured\n",
    "   array, such that the Zip Code data is stored as a five character string.'''"
   ]
  },
  {
   "cell_type": "code",
   "execution_count": 22,
   "metadata": {
    "collapsed": false
   },
   "outputs": [
    {
     "data": {
      "text/plain": [
       "array([['code', 'sales', 'zip'],\n",
       "       ['ER', '17.5', '78701'],\n",
       "       ['ER', '8.9', '78704'],\n",
       "       ['ER', '1.4', '78703'],\n",
       "       ['ER', '19.2', '77036'],\n",
       "       ['ER', '18.1', '77251'],\n",
       "       ['ER', '4.0', '77281'],\n",
       "       ['HN', '1.4', '80026'],\n",
       "       ['HN', '3.2', '80301'],\n",
       "       ['HN', '0.5', '80302'],\n",
       "       ['HN', '1.0', '80303'],\n",
       "       ['HN', '0.3', '80466'],\n",
       "       ['KP', '4.9', '02101'],\n",
       "       ['KP', '0.2', '02102'],\n",
       "       ['KP', '1.0', '02103'],\n",
       "       ['KP', '0.9', '02104'],\n",
       "       ['KP', '1.8', '02105'],\n",
       "       ['TY', '0.3', '04401'],\n",
       "       ['TY', '0.1', '04406']], \n",
       "      dtype='|S5')"
      ]
     },
     "execution_count": 22,
     "metadata": {},
     "output_type": "execute_result"
    }
   ],
   "source": [
    "data3 = genfromtxt('data3.csv', delimiter =',', dtype=None )\n",
    "\n",
    "data3"
   ]
  },
  {
   "cell_type": "code",
   "execution_count": null,
   "metadata": {
    "collapsed": true
   },
   "outputs": [],
   "source": []
  }
 ],
 "metadata": {
  "kernelspec": {
   "display_name": "Python 2",
   "language": "python",
   "name": "python2"
  },
  "language_info": {
   "codemirror_mode": {
    "name": "ipython",
    "version": 2
   },
   "file_extension": ".py",
   "mimetype": "text/x-python",
   "name": "python",
   "nbconvert_exporter": "python",
   "pygments_lexer": "ipython2",
   "version": "2.7.11"
  }
 },
 "nbformat": 4,
 "nbformat_minor": 0
}

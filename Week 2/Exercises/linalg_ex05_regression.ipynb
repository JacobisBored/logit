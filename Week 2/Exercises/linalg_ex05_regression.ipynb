{
 "cells": [
  {
   "cell_type": "markdown",
   "metadata": {},
   "source": [
    "## Question 5: Regression Line\n",
    "\n",
    "We can find the linear least squares regression line using the following matrix formula.  If\n",
    "$$\n",
    "    \\textbf{X} =\n",
    "    \\begin{bmatrix}\n",
    "        1 & x_1 \\\\\n",
    "        1 & x_2 \\\\\n",
    "        \\vdots & \\vdots \\\\\n",
    "        1 & x_n \n",
    "    \\end{bmatrix}\n",
    "$$\n",
    "\n",
    "contains all the x-coordinates for our data, and\n",
    "\n",
    "$$\n",
    "    \\textbf{y} = \n",
    "    \\begin{bmatrix}\n",
    "        y_1 \\\\ y_2 \\\\ \\vdots \\\\ y_n\n",
    "    \\end{bmatrix}\n",
    "$$\n",
    "\n",
    "contains all the y-coordinates for our data, the regression line $y = \\beta_0 + \\beta_1 x$ can be found with the matrix equation\n",
    "\n",
    "$$\n",
    "    \\bf{\\beta} = (\\bf{X}^T\\bf{X})^{-1}X^{T}y\n",
    "$$\n",
    "\n",
    "where\n",
    "\n",
    "$$\n",
    "    \\bf{\\beta} =\n",
    "    \\begin{bmatrix}\n",
    "        \\beta_0 \\\\ \\beta_1\n",
    "    \\end{bmatrix}\n",
    "$$\n",
    "\n",
    "Using this method, find the least squares regression line for the set of points (2,1), (3,3), (6,2), (7,5), (9,6).  Try to plot the points and the regression line together."
   ]
  },
  {
   "cell_type": "code",
   "execution_count": 4,
   "metadata": {
    "collapsed": true
   },
   "outputs": [],
   "source": [
    "%matplotlib inline\n",
    "\n",
    "import matplotlib\n",
    "import numpy as np\n",
    "import matplotlib.pyplot as plt\n",
    "from scipy import stats\n",
    "\n",
    "# Your code here.\n"
   ]
  },
  {
   "cell_type": "code",
   "execution_count": 48,
   "metadata": {
    "collapsed": false
   },
   "outputs": [
    {
     "data": {
      "text/plain": [
       "(matrix([[1, 2],\n",
       "         [1, 3],\n",
       "         [1, 6],\n",
       "         [1, 7],\n",
       "         [1, 9]]), matrix([[1],\n",
       "         [3],\n",
       "         [2],\n",
       "         [5],\n",
       "         [6]]), matrix([[1, 1, 1, 1, 1],\n",
       "         [2, 3, 6, 7, 9]]))"
      ]
     },
     "execution_count": 48,
     "metadata": {},
     "output_type": "execute_result"
    }
   ],
   "source": [
    "X = np.matrix([[1,2],[1,3],[1,6],[1,7],[1,9]])\n",
    "y = np.matrix([[1],[3],[2],[5],[6]])\n",
    "xt =X.T\n",
    "\n",
    "x,y, xt"
   ]
  },
  {
   "cell_type": "code",
   "execution_count": 49,
   "metadata": {
    "collapsed": false
   },
   "outputs": [
    {
     "data": {
      "text/plain": [
       "matrix([[ 0.11445783],\n",
       "        [ 0.60843373]])"
      ]
     },
     "execution_count": 49,
     "metadata": {},
     "output_type": "execute_result"
    }
   ],
   "source": [
    "beta = np.linalg.inv((xt)*x)*(xt)*y\n",
    "\n",
    "beta"
   ]
  },
  {
   "cell_type": "code",
   "execution_count": 59,
   "metadata": {
    "collapsed": false
   },
   "outputs": [
    {
     "data": {
      "text/plain": [
       "(0, 10)"
      ]
     },
     "execution_count": 59,
     "metadata": {},
     "output_type": "execute_result"
    },
    {
     "data": {
      "image/png": "[encoded data removed]",
      "text/plain": [
       "<matplotlib.figure.Figure at 0x10eb88b90>"
      ]
     },
     "metadata": {},
     "output_type": "display_data"
    }
   ],
   "source": [
    "plt.scatter(x=xt[1], y=y)\n",
    "plt.plot([0,10],[float(beta[0]),10.*beta[1]])\n",
    "plt.title(\"Regression\")\n",
    "plt.xlim(0,10)"
   ]
  },
  {
   "cell_type": "code",
   "execution_count": 43,
   "metadata": {
    "collapsed": false
   },
   "outputs": [
    {
     "data": {
      "text/plain": [
       "matrix([[ 0.60843373]])"
      ]
     },
     "execution_count": 43,
     "metadata": {},
     "output_type": "execute_result"
    }
   ],
   "source": [
    "rline = beta[0] + beta[1] * x"
   ]
  },
  {
   "cell_type": "code",
   "execution_count": null,
   "metadata": {
    "collapsed": true
   },
   "outputs": [],
   "source": []
  }
 ],
 "metadata": {
  "kernelspec": {
   "display_name": "Python 2",
   "language": "python",
   "name": "python2"
  },
  "language_info": {
   "codemirror_mode": {
    "name": "ipython",
    "version": 2
   },
   "file_extension": ".py",
   "mimetype": "text/x-python",
   "name": "python",
   "nbconvert_exporter": "python",
   "pygments_lexer": "ipython2",
   "version": "2.7.11"
  }
 },
 "nbformat": 4,
 "nbformat_minor": 0
}

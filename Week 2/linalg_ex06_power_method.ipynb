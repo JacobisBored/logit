{
 "cells": [
  {
   "cell_type": "markdown",
   "metadata": {},
   "source": [
    "## Question 6: The Power Method\n",
    "\n",
    "The power iteration method can be used to find the largest eigenvalue and the associated eigenvector for a given matrix.  It works like so.  Start with a vector $b_0$, which is an approximation of the dominant eigenvector.  The vector $b_0$ can be anything, even a random vector.  Then iterate the following relation until it reaches stability:\n",
    "\n",
    "$$\n",
    "    b_{k+1} = \\frac{Ab_k}{||Ab_k||}\n",
    "$$\n",
    "\n",
    "Warning: this method is not guaranteed to converge.\n",
    "\n",
    "Try to implement the power method to find the dominant eigenvector for the following matrix M:\n",
    "\n",
    "$$\n",
    "    M = \n",
    "    \\begin{bmatrix}\n",
    "        1 & 2 & 5 & 7 \\\\\n",
    "        2 & 9 & 3 & 7 \\\\\n",
    "        1 & 0 & 2 & 2 \\\\\n",
    "        7 & 3 & 9 & 1\n",
    "    \\end{bmatrix}\n",
    "$$\n",
    "\n",
    "Compare this to what you get from using np.linalg.eig() for finding eigenvectors and eigenvalues."
   ]
  },
  {
   "cell_type": "code",
   "execution_count": 1,
   "metadata": {
    "collapsed": true
   },
   "outputs": [],
   "source": [
    "import numpy as np\n",
    "\n",
    "# Your code here\n",
    "m = np.matrix([[1,2,5,7],[2,9,3,7],[1,0,2,2],[7,3,9,1]])"
   ]
  },
  {
   "cell_type": "code",
   "execution_count": 2,
   "metadata": {
    "collapsed": false
   },
   "outputs": [
    {
     "data": {
      "text/plain": [
       "matrix([[1, 2, 5, 7],\n",
       "        [2, 9, 3, 7],\n",
       "        [1, 0, 2, 2],\n",
       "        [7, 3, 9, 1]])"
      ]
     },
     "execution_count": 2,
     "metadata": {},
     "output_type": "execute_result"
    }
   ],
   "source": [
    "m"
   ]
  },
  {
   "cell_type": "code",
   "execution_count": null,
   "metadata": {
    "collapsed": true
   },
   "outputs": [],
   "source": []
  }
 ],
 "metadata": {
  "kernelspec": {
   "display_name": "Python 2",
   "language": "python",
   "name": "python2"
  },
  "language_info": {
   "codemirror_mode": {
    "name": "ipython",
    "version": 2
   },
   "file_extension": ".py",
   "mimetype": "text/x-python",
   "name": "python",
   "nbconvert_exporter": "python",
   "pygments_lexer": "ipython2",
   "version": "2.7.11"
  }
 },
 "nbformat": 4,
 "nbformat_minor": 0
}
